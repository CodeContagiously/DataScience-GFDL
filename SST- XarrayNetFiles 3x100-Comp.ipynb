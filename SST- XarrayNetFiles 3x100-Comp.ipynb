{
 "cells": [
  {
   "cell_type": "code",
   "execution_count": 1,
   "metadata": {},
   "outputs": [],
   "source": [
    "# np.diff(x[1:],axis=0)"
   ]
  },
  {
   "cell_type": "code",
   "execution_count": 2,
   "metadata": {},
   "outputs": [],
   "source": [
    "from dask.distributed import Client"
   ]
  },
  {
   "cell_type": "code",
   "execution_count": 3,
   "metadata": {},
   "outputs": [],
   "source": [
    "client = Client('140.208.147.173:34671')"
   ]
  },
  {
   "cell_type": "code",
   "execution_count": 4,
   "metadata": {},
   "outputs": [],
   "source": [
    "# client"
   ]
  },
  {
   "cell_type": "markdown",
   "metadata": {},
   "source": [
    "### Using Xarray and net Files"
   ]
  },
  {
   "cell_type": "code",
   "execution_count": 5,
   "metadata": {},
   "outputs": [],
   "source": [
    "import xarray as xr"
   ]
  },
  {
   "cell_type": "code",
   "execution_count": null,
   "metadata": {},
   "outputs": [],
   "source": [
    "%%time\n",
    "\n",
    "#300yr OM4files, date 198801 - 200712\n",
    "\n",
    "#chunk along dim = 'time'\n",
    "OM4p25 = xr.open_mfdataset('/work/Nkeh.Boh/SST/NetOMfiles/OM4p25/comp/*.nc')\n",
    "OM4p25z = xr.open_mfdataset('/work/Nkeh.Boh/SST/NetOMfiles/OM4p25z/comp/*.nc')\n",
    "OM4p5nep = xr.open_mfdataset('/work/Nkeh.Boh/SST/NetOMfiles/OM4p5nep/comp/*.nc')\n",
    "OM4p5mle =xr.open_mfdataset('/work/Nkeh.Boh/SST/NetOMfiles/OM4p5mle/comp/*.nc')\n",
    "OM4p5 = xr.open_mfdataset('/work/Nkeh.Boh/SST/NetOMfiles/OM4p5/comp/*.nc')\n",
    "\n",
    "W25 = xr.open_dataset('/work/Nkeh.Boh/SST/NetOMfiles/W25/comp/WOA05_ptemp_salt_monthly.v20141007.nc')\n",
    "W5 = xr.open_dataset('/work/Nkeh.Boh/SST/NetOMfiles/W05/comp/WOA05_ptemp_salt_monthly.v2015.12.03.nc')\n",
    "\n",
    "# 105GB < T_fileSize <110GB\n",
    "\n",
    "OM4p25_av = OM4p25['tos'].chunk({'time':1}).mean(dim='time').load()\n",
    "OM4p5nep_av = OM4p5nep['tos'].chunk({'time':1}).mean(dim='time').load()\n",
    "OM4p25z_av = OM4p25z['tos'].chunk({'time':1}).mean(dim='time').load()\n",
    "OM4p5_av = OM4p5['tos'].chunk({'time':1}).mean(dim='time').load()\n",
    "OM4p5mle_av = OM4p5mle['tos'].chunk({'time':1}).mean(dim='time').load()\n",
    "\n",
    "W25_av = W25['ptemp'].mean(axis=(0,1)).load()\n",
    "W5_av = W5['ptemp'].mean(axis=(0,1)).load()"
   ]
  },
  {
   "cell_type": "code",
   "execution_count": null,
   "metadata": {},
   "outputs": [],
   "source": [
    "##Anomaly has issues, --get help"
   ]
  },
  {
   "cell_type": "code",
   "execution_count": null,
   "metadata": {},
   "outputs": [],
   "source": []
  }
 ],
 "metadata": {
  "kernelspec": {
   "display_name": "Python 3",
   "language": "python",
   "name": "python3"
  },
  "language_info": {
   "codemirror_mode": {
    "name": "ipython",
    "version": 3
   },
   "file_extension": ".py",
   "mimetype": "text/x-python",
   "name": "python",
   "nbconvert_exporter": "python",
   "pygments_lexer": "ipython3",
   "version": "3.7.3"
  }
 },
 "nbformat": 4,
 "nbformat_minor": 2
}
