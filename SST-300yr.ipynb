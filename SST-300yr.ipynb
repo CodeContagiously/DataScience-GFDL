{
 "cells": [
  {
   "cell_type": "code",
   "execution_count": 26,
   "metadata": {
    "scrolled": true
   },
   "outputs": [
    {
     "name": "stderr",
     "output_type": "stream",
     "text": [
      "/nbhome/Nkeh.Boh/anaconda3/lib/python3.7/site-packages/distributed/dashboard/core.py:74: UserWarning: \n",
      "Port 8787 is already in use. \n",
      "Perhaps you already have a cluster running?\n",
      "Hosting the diagnostics dashboard on a random port instead.\n",
      "  warnings.warn(\"\\n\" + msg)\n"
     ]
    }
   ],
   "source": [
    "from dask_jobqueue import SLURMCluster\n",
    "cluster = SLURMCluster(queue='analysis',memory='60GB',project='gfdl_f',cores=8, walltime='0:60:00' )"
   ]
  },
  {
   "cell_type": "code",
   "execution_count": 27,
   "metadata": {
    "scrolled": true
   },
   "outputs": [
    {
     "data": {
      "application/vnd.jupyter.widget-view+json": {
       "model_id": "c4857f3a876448f4bac7e02e15fb8f0e",
       "version_major": 2,
       "version_minor": 0
      },
      "text/plain": [
       "VBox(children=(HTML(value='<h2>SLURMCluster</h2>'), HBox(children=(HTML(value='\\n<div>\\n  <style scoped>\\n    …"
      ]
     },
     "metadata": {},
     "output_type": "display_data"
    },
    {
     "name": "stderr",
     "output_type": "stream",
     "text": [
      "distributed.utils - ERROR - 'ogb'\n",
      "Traceback (most recent call last):\n",
      "  File \"/nbhome/Nkeh.Boh/anaconda3/lib/python3.7/site-packages/distributed/utils.py\", line 714, in log_errors\n",
      "    yield\n",
      "  File \"/nbhome/Nkeh.Boh/anaconda3/lib/python3.7/site-packages/dask_jobqueue/deploy/cluster_manager.py\", line 166, in _scale\n",
      "    n = self._get_nb_workers_from_memory(memory)\n",
      "  File \"/nbhome/Nkeh.Boh/anaconda3/lib/python3.7/site-packages/dask_jobqueue/deploy/cluster_manager.py\", line 377, in _get_nb_workers_from_memory\n",
      "    parse_bytes(memory) / parse_bytes(self.jobqueue_worker_spec[\"memory\"])\n",
      "  File \"/nbhome/Nkeh.Boh/anaconda3/lib/python3.7/site-packages/distributed/utils.py\", line 1173, in parse_bytes\n",
      "    multiplier = byte_sizes[suffix.lower()]\n",
      "KeyError: 'ogb'\n",
      "tornado.application - ERROR - Exception in callback functools.partial(<bound method IOLoop._discard_future_result of <zmq.eventloop.ioloop.ZMQIOLoop object at 0x2b1395e0eb70>>, <Future finished exception=KeyError('ogb')>)\n",
      "Traceback (most recent call last):\n",
      "  File \"/nbhome/Nkeh.Boh/anaconda3/lib/python3.7/site-packages/tornado/ioloop.py\", line 743, in _run_callback\n",
      "    ret = callback()\n",
      "  File \"/nbhome/Nkeh.Boh/anaconda3/lib/python3.7/site-packages/tornado/ioloop.py\", line 767, in _discard_future_result\n",
      "    future.result()\n",
      "  File \"/nbhome/Nkeh.Boh/anaconda3/lib/python3.7/site-packages/tornado/gen.py\", line 209, in wrapper\n",
      "    yielded = next(result)\n",
      "  File \"/nbhome/Nkeh.Boh/anaconda3/lib/python3.7/site-packages/dask_jobqueue/deploy/cluster_manager.py\", line 166, in _scale\n",
      "    n = self._get_nb_workers_from_memory(memory)\n",
      "  File \"/nbhome/Nkeh.Boh/anaconda3/lib/python3.7/site-packages/dask_jobqueue/deploy/cluster_manager.py\", line 377, in _get_nb_workers_from_memory\n",
      "    parse_bytes(memory) / parse_bytes(self.jobqueue_worker_spec[\"memory\"])\n",
      "  File \"/nbhome/Nkeh.Boh/anaconda3/lib/python3.7/site-packages/distributed/utils.py\", line 1173, in parse_bytes\n",
      "    multiplier = byte_sizes[suffix.lower()]\n",
      "KeyError: 'ogb'\n",
      "distributed.utils - ERROR - 'ogb'\n",
      "Traceback (most recent call last):\n",
      "  File \"/nbhome/Nkeh.Boh/anaconda3/lib/python3.7/site-packages/distributed/utils.py\", line 714, in log_errors\n",
      "    yield\n",
      "  File \"/nbhome/Nkeh.Boh/anaconda3/lib/python3.7/site-packages/dask_jobqueue/deploy/cluster_manager.py\", line 166, in _scale\n",
      "    n = self._get_nb_workers_from_memory(memory)\n",
      "  File \"/nbhome/Nkeh.Boh/anaconda3/lib/python3.7/site-packages/dask_jobqueue/deploy/cluster_manager.py\", line 377, in _get_nb_workers_from_memory\n",
      "    parse_bytes(memory) / parse_bytes(self.jobqueue_worker_spec[\"memory\"])\n",
      "  File \"/nbhome/Nkeh.Boh/anaconda3/lib/python3.7/site-packages/distributed/utils.py\", line 1173, in parse_bytes\n",
      "    multiplier = byte_sizes[suffix.lower()]\n",
      "KeyError: 'ogb'\n",
      "tornado.application - ERROR - Exception in callback functools.partial(<bound method IOLoop._discard_future_result of <zmq.eventloop.ioloop.ZMQIOLoop object at 0x2b1395e0eb70>>, <Future finished exception=KeyError('ogb')>)\n",
      "Traceback (most recent call last):\n",
      "  File \"/nbhome/Nkeh.Boh/anaconda3/lib/python3.7/site-packages/tornado/ioloop.py\", line 743, in _run_callback\n",
      "    ret = callback()\n",
      "  File \"/nbhome/Nkeh.Boh/anaconda3/lib/python3.7/site-packages/tornado/ioloop.py\", line 767, in _discard_future_result\n",
      "    future.result()\n",
      "  File \"/nbhome/Nkeh.Boh/anaconda3/lib/python3.7/site-packages/tornado/gen.py\", line 209, in wrapper\n",
      "    yielded = next(result)\n",
      "  File \"/nbhome/Nkeh.Boh/anaconda3/lib/python3.7/site-packages/dask_jobqueue/deploy/cluster_manager.py\", line 166, in _scale\n",
      "    n = self._get_nb_workers_from_memory(memory)\n",
      "  File \"/nbhome/Nkeh.Boh/anaconda3/lib/python3.7/site-packages/dask_jobqueue/deploy/cluster_manager.py\", line 377, in _get_nb_workers_from_memory\n",
      "    parse_bytes(memory) / parse_bytes(self.jobqueue_worker_spec[\"memory\"])\n",
      "  File \"/nbhome/Nkeh.Boh/anaconda3/lib/python3.7/site-packages/distributed/utils.py\", line 1173, in parse_bytes\n",
      "    multiplier = byte_sizes[suffix.lower()]\n",
      "KeyError: 'ogb'\n",
      "/nbhome/Nkeh.Boh/anaconda3/lib/python3.7/site-packages/distributed/scheduler.py:313: UserWarning: WorkerState.ncores has moved to WorkerState.nthreads\n",
      "  warnings.warn(\"WorkerState.ncores has moved to WorkerState.nthreads\")\n"
     ]
    }
   ],
   "source": [
    "cluster"
   ]
  },
  {
   "cell_type": "code",
   "execution_count": null,
   "metadata": {
    "scrolled": true
   },
   "outputs": [],
   "source": [
    "# cluster.close()"
   ]
  },
  {
   "cell_type": "code",
   "execution_count": 30,
   "metadata": {},
   "outputs": [],
   "source": [
    "from dask.distributed import Client\n",
    "client = Client(cluster)"
   ]
  },
  {
   "cell_type": "code",
   "execution_count": 31,
   "metadata": {
    "scrolled": true
   },
   "outputs": [
    {
     "data": {
      "text/html": [
       "<table style=\"border: 2px solid white;\">\n",
       "<tr>\n",
       "<td style=\"vertical-align: top; border: 0px solid white\">\n",
       "<h3>Client</h3>\n",
       "<ul>\n",
       "  <li><b>Scheduler: </b>tcp://140.208.147.176:33121\n",
       "  <li><b>Dashboard: </b><a href='http://140.208.147.176:43617/status' target='_blank'>http://140.208.147.176:43617/status</a>\n",
       "</ul>\n",
       "</td>\n",
       "<td style=\"vertical-align: top; border: 0px solid white\">\n",
       "<h3>Cluster</h3>\n",
       "<ul>\n",
       "  <li><b>Workers: </b>1</li>\n",
       "  <li><b>Cores: </b>8</li>\n",
       "  <li><b>Memory: </b>60.00 GB</li>\n",
       "</ul>\n",
       "</td>\n",
       "</tr>\n",
       "</table>"
      ],
      "text/plain": [
       "<Client: scheduler='tcp://140.208.147.176:33121' processes=1 cores=8>"
      ]
     },
     "execution_count": 31,
     "metadata": {},
     "output_type": "execute_result"
    }
   ],
   "source": [
    "client"
   ]
  },
  {
   "cell_type": "code",
   "execution_count": null,
   "metadata": {
    "scrolled": true
   },
   "outputs": [],
   "source": []
  },
  {
   "cell_type": "code",
   "execution_count": 33,
   "metadata": {},
   "outputs": [],
   "source": [
    "import cartopy\n",
    "import cmocean\n",
    "import matplotlib.pyplot as plt\n",
    "import matplotlib.colors\n",
    "import matplotlib.colorbar\n",
    "import xarray as xr\n",
    "import numpy"
   ]
  },
  {
   "cell_type": "code",
   "execution_count": 34,
   "metadata": {},
   "outputs": [],
   "source": [
    "#300yr OM4files, date 198801 - 200712\n",
    "\n",
    "#chunk along dim = 'time'\n",
    "OM4p25 = xr.open_zarr('/work/Nkeh.Boh/SST/ZarrDataset/OM4p25_tos_300yr.zarr')\n",
    "OM4p25z = xr.open_zarr('/work/Nkeh.Boh/SST/ZarrDataset/OM4p25z_tos_300yr.zarr')\n",
    "OM4p5nep = xr.open_zarr('/work/Nkeh.Boh/SST/ZarrDataset/OM4p5nep_tos_300yr.zarr')\n",
    "OM4p5mle =xr.open_zarr('/work/Nkeh.Boh/SST/ZarrDataset/OM4p5mle_tos_300yr.zarr')\n",
    "OM4p5 = xr.open_zarr('/work/Nkeh.Boh/SST/ZarrDataset/OM4p05_tos_300yr.zarr')\n",
    "\n",
    "#WOA files\n",
    "W25 = xr.open_zarr('/work/Nkeh.Boh/SST/ZarrDataset/WOA25.zarr')\n",
    "W5 = xr.open_zarr('/work/Nkeh.Boh/SST/ZarrDataset/WOA05.zarr')\n",
    "# 105GB < T_fileSize <110GB\n",
    "\n",
    "#Grid files\n",
    "G25 = xr.open_zarr('/work/Nkeh.Boh/SST/ZarrDataset/Ocean_grid25.zarr')\n",
    "G5 = xr.open_zarr('/work/Nkeh.Boh/SST/ZarrDataset/Ocean_grid05.zarr')\n",
    "M25 = xr.open_zarr('/work/Nkeh.Boh/SST/ZarrDataset/Ocean_mask25.zarr')\n",
    "M5 = xr.open_zarr('/work/Nkeh.Boh/SST/ZarrDataset/Ocean_mask05.zarr')"
   ]
  },
  {
   "cell_type": "code",
   "execution_count": 35,
   "metadata": {},
   "outputs": [
    {
     "name": "stderr",
     "output_type": "stream",
     "text": [
      "/nbhome/Nkeh.Boh/anaconda3/lib/python3.7/site-packages/distributed/scheduler.py:313: UserWarning: WorkerState.ncores has moved to WorkerState.nthreads\n",
      "  warnings.warn(\"WorkerState.ncores has moved to WorkerState.nthreads\")\n"
     ]
    }
   ],
   "source": [
    "xq25 = G25['x'][::2,::2]\n",
    "yq25 = G25['y'][::2,::2]\n",
    "a25 = G25['area']; a25 = a25[::2,::2]+a25[1::2,1::2]+a25[1::2,::2]+a25[1::2,::2]\n",
    "m25 = M25['mask']; a25 = a25*m25\n",
    "xq5 = G5['x'][::2,::2]\n",
    "yq5 = G5['y'][::2,::2]\n",
    "a5 = G5['area']; a5 = a5[::2,::2]+a5[1::2,1::2]+a5[1::2,::2]+a5[1::2,::2]\n",
    "m5 = M5['mask']; a5 = a5*m5"
   ]
  },
  {
   "cell_type": "markdown",
   "metadata": {},
   "source": [
    "### Time Average"
   ]
  },
  {
   "cell_type": "code",
   "execution_count": 36,
   "metadata": {},
   "outputs": [],
   "source": [
    "##xarray lazy computation"
   ]
  },
  {
   "cell_type": "code",
   "execution_count": 37,
   "metadata": {},
   "outputs": [],
   "source": [
    "OM4p5_av = OM4p5.variables['tos'].chunk({'time':12}).mean(dim='time', skipna=True).load()\n",
    "OM4p5_av = OM4p5.variables['tos'].chunk({'time':12}).mean(dim='time', skipna=True).load()\n",
    "OM4p25_av = OM4p25.variables['tos'].chunk({'time':12}).mean(dim='time', skipna=True).load()\n",
    "OM4p5nep_av = OM4p5nep.variables['tos'].chunk({'time':12}).mean(dim='time', skipna=True).load()\n",
    "OM4p25z_av = OM4p25z.variables['tos'].chunk({'time':12}).mean(dim='time', skipna=True).load()"
   ]
  },
  {
   "cell_type": "code",
   "execution_count": 38,
   "metadata": {},
   "outputs": [],
   "source": [
    "W25_av = W25.variables['ptemp'].mean(axis=(0,1), skipna=True).load()\n",
    "W5_av = W5.variables['ptemp'].mean(axis=(0,1), skipna=True).load()"
   ]
  },
  {
   "cell_type": "code",
   "execution_count": 39,
   "metadata": {
    "scrolled": true
   },
   "outputs": [
    {
     "name": "stderr",
     "output_type": "stream",
     "text": [
      "/nbhome/Nkeh.Boh/anaconda3/lib/python3.7/site-packages/distributed/scheduler.py:313: UserWarning: WorkerState.ncores has moved to WorkerState.nthreads\n",
      "  warnings.warn(\"WorkerState.ncores has moved to WorkerState.nthreads\")\n"
     ]
    }
   ],
   "source": [
    "# %%time\n",
    "# OM4p25_av = OM4p25['tos'].mean(dim='time').load()\n",
    "# OM4p5nep_av = OM4p5nep['tos'].mean(dim='time').load()\n",
    "# OM4p25z_av = OM4p25z['tos'].mean(dim='time').load()\n",
    "# OM4p5_av = OM4p5['tos'].mean(dim='time').load()\n",
    "# OM4p5_av = OM4p5['tos'].mean(dim='time').load()"
   ]
  },
  {
   "cell_type": "code",
   "execution_count": null,
   "metadata": {},
   "outputs": [],
   "source": []
  },
  {
   "cell_type": "code",
   "execution_count": null,
   "metadata": {},
   "outputs": [],
   "source": []
  },
  {
   "cell_type": "code",
   "execution_count": null,
   "metadata": {},
   "outputs": [],
   "source": []
  },
  {
   "cell_type": "code",
   "execution_count": 40,
   "metadata": {
    "scrolled": false
   },
   "outputs": [],
   "source": [
    "def stats(ax, area, anomaly, label):\n",
    "    mn = (anomaly*area).sum()/area.sum()\n",
    "    sd = numpy.sqrt( ((anomaly-mn)**2*area).sum()/area.sum() )\n",
    "    rms = numpy.sqrt( (anomaly**2*area).sum()/area.sum() )\n",
    "    qmn, qmx = anomaly.min(), anomaly.max()\n",
    "    print(label, 'mean =', mn, 'sd =', sd, 'rms =', rms, 'min =', qmn, 'max =', qmx )\n",
    "    bb = ax.get_position()\n",
    "    plt.gcf().text(bb.x0,bb.y1+.01,'mean=%.3f$^\\circ$C'%mn, horizontalalignment='left')\n",
    "    plt.gcf().text(bb.x1,bb.y1+.01,'rms=%.3f$^\\circ$C'%rms, horizontalalignment='right')"
   ]
  },
  {
   "cell_type": "code",
   "execution_count": null,
   "metadata": {},
   "outputs": [],
   "source": [
    "fig = plt.figure(figsize=(12, 8))\n",
    "vmin,vmax,ci,cmap = -2.25,2.25,.5,plt.cm.RdYlBu_r\n",
    "axes = []\n",
    "cilev = numpy.arange(vmin-ci,vmax+ci*2,ci)\n",
    "norm = matplotlib.colors.BoundaryNorm(boundaries=cilev, ncolors=cmap.N)\n",
    "\n",
    "q = OM4p5nep_av - W5_av\n",
    "ax = fig.add_subplot(2,2,2,projection=cartopy.crs.Robinson(central_longitude=-155))\n",
    "im = ax.pcolormesh(xq5, yq5, q,\n",
    "              transform=cartopy.crs.PlateCarree(), cmap=cmap, norm=norm)\n",
    "stats(ax, a5, q, 'OMp5nep')\n",
    "ax.coastlines()\n",
    "axes.append(ax)\n",
    "plt.title('b) OM4p5n')\n",
    "\n",
    "# q = OM4p25z_av - W25_av\n",
    "# ax = fig.add_subplot(2,2,3,projection=cartopy.crs.Robinson(central_longitude=-155))\n",
    "# im = ax.pcolormesh(xq25, yq25, q,\n",
    "#               transform=cartopy.crs.PlateCarree(), cmap=cmap, norm=norm)\n",
    "# stats(ax, a25, q, 'OMp25z')\n",
    "# ax.coastlines()\n",
    "# axes.append(ax)\n",
    "# plt.title('c) OM4p25z')\n",
    "\n",
    "# q = OM4p5mle.variables['tos'][0,0]-W5.variables['ptemp'][0,0]\n",
    "# ax = fig.add_subplot(2,2,3,projection=cartopy.crs.Robinson(central_longitude=-155))\n",
    "# im = ax.pcolormesh(xq5, yq5, q,\n",
    "#               transform=cartopy.crs.PlateCarree(), cmap=cmap, norm=norm)\n",
    "# stats(ax, a5, q, 'OM4p5mle')\n",
    "# ax.coastlines()\n",
    "# axes.append(ax)\n",
    "# plt.title('c) OM4p25e')\n",
    "\n",
    "# q = OM4p5_av - W5_av\n",
    "# ax = fig.add_subplot(2,2,4,projection=cartopy.crs.Robinson(central_longitude=-155))\n",
    "# im = ax.pcolormesh(xq5, yq5, q,\n",
    "#               transform=cartopy.crs.PlateCarree(), cmap=cmap, norm=norm, vmin=vmin, vmax=vmax)\n",
    "# stats(ax, a5, q, 'OMp5')\n",
    "# ax.coastlines()\n",
    "# axes.append(ax)\n",
    "# plt.title('d) OM4p5')\n",
    "\n",
    "# ax = plt.gcf().add_axes((.25,.5,.5,.03))\n",
    "# cb = matplotlib.colorbar.ColorbarBase(ax=ax, cmap=cmap, norm=norm, boundaries=cilev,\n",
    "#                                       orientation='horizontal', extend='both')\n",
    "# cb.ax.set_title('SST bias ($^\\circ$C)')\n",
    "\n",
    "# plt.savefig('sst-bias.png')"
   ]
  },
  {
   "cell_type": "code",
   "execution_count": null,
   "metadata": {},
   "outputs": [],
   "source": []
  }
 ],
 "metadata": {
  "kernelspec": {
   "display_name": "Python 3",
   "language": "python",
   "name": "python3"
  },
  "language_info": {
   "codemirror_mode": {
    "name": "ipython",
    "version": 3
   },
   "file_extension": ".py",
   "mimetype": "text/x-python",
   "name": "python",
   "nbconvert_exporter": "python",
   "pygments_lexer": "ipython3",
   "version": "3.7.3"
  }
 },
 "nbformat": 4,
 "nbformat_minor": 2
}
