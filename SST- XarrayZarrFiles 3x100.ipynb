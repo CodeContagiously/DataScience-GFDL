{
 "cells": [
  {
   "cell_type": "code",
   "execution_count": 1,
   "metadata": {},
   "outputs": [],
   "source": [
    "from dask.distributed import Client\n",
    "client = Client('140.208.147.177:43131')"
   ]
  },
  {
   "cell_type": "code",
   "execution_count": 2,
   "metadata": {},
   "outputs": [
    {
     "data": {
      "text/html": [
       "<table style=\"border: 2px solid white;\">\n",
       "<tr>\n",
       "<td style=\"vertical-align: top; border: 0px solid white\">\n",
       "<h3>Client</h3>\n",
       "<ul>\n",
       "  <li><b>Scheduler: </b>tcp://140.208.147.177:43131\n",
       "  <li><b>Dashboard: </b><a href='http://140.208.147.177:8787/status' target='_blank'>http://140.208.147.177:8787/status</a>\n",
       "</ul>\n",
       "</td>\n",
       "<td style=\"vertical-align: top; border: 0px solid white\">\n",
       "<h3>Cluster</h3>\n",
       "<ul>\n",
       "  <li><b>Workers: </b>0</li>\n",
       "  <li><b>Cores: </b>0</li>\n",
       "  <li><b>Memory: </b>0 B</li>\n",
       "</ul>\n",
       "</td>\n",
       "</tr>\n",
       "</table>"
      ],
      "text/plain": [
       "<Client: scheduler='tcp://140.208.147.177:43131' processes=0 cores=0>"
      ]
     },
     "execution_count": 2,
     "metadata": {},
     "output_type": "execute_result"
    }
   ],
   "source": [
    "client"
   ]
  },
  {
   "cell_type": "code",
   "execution_count": 3,
   "metadata": {},
   "outputs": [],
   "source": [
    "# import cartopy\n",
    "# import cmocean\n",
    "# import matplotlib.pyplot as plt\n",
    "# import matplotlib.colors\n",
    "# import matplotlib.colorbar\n",
    "import xarray as xr\n",
    "#import numpy"
   ]
  },
  {
   "cell_type": "code",
   "execution_count": 4,
   "metadata": {},
   "outputs": [],
   "source": [
    "# import dask.array as da"
   ]
  },
  {
   "cell_type": "code",
   "execution_count": null,
   "metadata": {},
   "outputs": [],
   "source": []
  },
  {
   "cell_type": "code",
   "execution_count": 8,
   "metadata": {},
   "outputs": [],
   "source": [
    "#300yr OM4files, date 198801 - 200712\n",
    "\n",
    "#chunk along dim = 'time'\n",
    "\n",
    "OM4p25 = xr.open_zarr('/work/Nkeh.Boh/SST/ZarrDataset/OM4p25_tos_300yr.zarr')\n",
    "OM4p25z = xr.open_zarr('/work/Nkeh.Boh/SST/ZarrDataset/OM4p25z_tos_300yr.zarr')\n",
    "OM4p5nep = xr.open_zarr('/work/Nkeh.Boh/SST/ZarrDataset/OM4p5nep_tos_300yr.zarr')\n",
    "OM4p5mle =xr.open_zarr('/work/Nkeh.Boh/SST/ZarrDataset/OM4p5mle_tos_300yr.zarr')\n",
    "OM4p5 = xr.open_zarr('/work/Nkeh.Boh/SST/ZarrDataset/OM4p05_tos_300yr.zarr')\n",
    "\n",
    "#WOA files\n",
    "# W25 = xr.open_zarr('/work/Nkeh.Boh/SST/ZarrDataset/WOA25.zarr')\n",
    "# W5 = xr.open_zarr('/work/Nkeh.Boh/SST/ZarrDataset/WOA05.zarr')\n",
    "\n",
    "# 105GB < T_fileSize <110GB\n",
    "\n",
    "#Grid files\n",
    "# G25 = xr.open_zarr('/work/Nkeh.Boh/SST/ZarrDataset/Ocean_grid25.zarr')\n",
    "# G5 = xr.open_zarr('/work/Nkeh.Boh/SST/ZarrDataset/Ocean_grid05.zarr')\n",
    "# M25 = xr.open_zarr('/work/Nkeh.Boh/SST/ZarrDataset/Ocean_mask25.zarr')\n",
    "# M5 = xr.open_zarr('/work/Nkeh.Boh/SST/ZarrDataset/Ocean_mask05.zarr') \n",
    "\n",
    "### Averaging\n",
    "\n",
    "\n",
    "OM4p25_av = OM4p25['tos'].mean(dim='time')#.load()\n",
    "OM4p5nep_av = OM4p5nep['tos'].mean(dim='time')#.load()\n",
    "OM4p25z_av = OM4p25z['tos'].mean(dim='time')#.load()\n",
    "OM4p5_av = OM4p5['tos'].mean(dim='time')#.load()\n",
    "OM4p5_av = OM4p5['tos'].mean(dim='time')#.load()\n",
    "\n",
    "# W25_av = W25['ptemp'].mean(axis=(0,1))#.load()\n",
    "# W5_av = W5['ptemp'].mean(axis=(0,1))#.load()\n",
    "\n",
    "\n",
    "\n",
    "# OM4p25_av = OM4p25['tos'].mean(dim='time', skipna=True).load()\n",
    "# OM4p5nep_av = OM4p5nep['tos'].mean(dim='time', skipna=True).load()\n",
    "# OM4p25z_av = OM4p25z['tos'].mean(dim='time', skipna=True).load()\n",
    "# OM4p5_av = OM4p5['tos'].mean(dim='time', skipna=True).load()\n",
    "# OM4p5_av = OM4p5['tos'].mean(dim='time', skipna=True).load()\n",
    "\n",
    "## PLots\n",
    "\n",
    "OM4p25_av.plot()\n",
    "OM4p5nep_av.plot()\n",
    "OM4p25z_av.plot()\n",
    "OM4p25_av.plot()\n",
    "OM4p5mle_av.plot()"
   ]
  }
 ],
 "metadata": {
  "kernelspec": {
   "display_name": "Python 3",
   "language": "python",
   "name": "python3"
  },
  "language_info": {
   "codemirror_mode": {
    "name": "ipython",
    "version": 3
   },
   "file_extension": ".py",
   "mimetype": "text/x-python",
   "name": "python",
   "nbconvert_exporter": "python",
   "pygments_lexer": "ipython3",
   "version": "3.7.3"
  }
 },
 "nbformat": 4,
 "nbformat_minor": 2
}
