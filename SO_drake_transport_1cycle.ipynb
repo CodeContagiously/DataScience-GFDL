{
 "cells": [
  {
   "cell_type": "markdown",
   "metadata": {},
   "source": [
    "This notebook corresponds to: \n",
    "Fig 19: anomalous Drake Passage transport \n",
    "<br>\n",
    "Original author: Steve Griffies, NOAA GFDL\n",
    "Date: July 1st, 2019.\n",
    "\n",
    "Please refer to GFDL Data Portal for pointers to data used by this analysis script. \n",
    "<br>\n",
    "For any questions, please contact gfdl.climate.model.info@noaa.gov\n"
   ]
  },
  {
   "cell_type": "code",
   "execution_count": 1,
   "metadata": {},
   "outputs": [
    {
     "name": "stderr",
     "output_type": "stream",
     "text": [
      "/nbhome/Nkeh.Boh/anaconda3/lib/python3.7/site-packages/dask/config.py:168: YAMLLoadWarning: calling yaml.load() without Loader=... is deprecated, as the default Loader is unsafe. Please read https://msg.pyyaml.org/load for full details.\n",
      "  data = yaml.load(f.read()) or {}\n",
      "/nbhome/Nkeh.Boh/anaconda3/lib/python3.7/site-packages/distributed/config.py:20: YAMLLoadWarning: calling yaml.load() without Loader=... is deprecated, as the default Loader is unsafe. Please read https://msg.pyyaml.org/load for full details.\n",
      "  defaults = yaml.load(f)\n"
     ]
    }
   ],
   "source": [
    "import xarray as xr\n",
    "import os"
   ]
  },
  {
   "cell_type": "code",
   "execution_count": 2,
   "metadata": {},
   "outputs": [
    {
     "name": "stdout",
     "output_type": "stream",
     "text": [
      "numpy version  :  1.16.2\n",
      "pandas version :  0.24.2\n",
      "xarray version :  0.12.1\n"
     ]
    }
   ],
   "source": [
    "import xarray as xr\n",
    "import matplotlib.pyplot as plt\n",
    "import numpy as np\n",
    "import seaborn as sns\n",
    "import pandas as pd\n",
    "import netCDF4\n",
    "\n",
    "from scipy import stats\n",
    "\n",
    "%matplotlib inline\n",
    "\n",
    "print(\"numpy version  : \", np.__version__)\n",
    "print(\"pandas version : \", pd.__version__)\n",
    "print(\"xarray version : \", xr.__version__)"
   ]
  },
  {
   "cell_type": "code",
   "execution_count": 3,
   "metadata": {},
   "outputs": [],
   "source": [
    "sns.set_style('white')\n",
    "sns.set_context('paper', font_scale=2)\n",
    "sns.set_palette('hls', 6)\n",
    "sns.set_style('ticks')"
   ]
  },
  {
   "cell_type": "code",
   "execution_count": 4,
   "metadata": {},
   "outputs": [
    {
     "name": "stdout",
     "output_type": "stream",
     "text": [
      "core_year(start,finish,size) =  1948.0 2007.0 60\n"
     ]
    }
   ],
   "source": [
    "# produce float year as an np.array for use in linear regression later\n",
    "core_year = np.array(list(range(1948,2008,1)))*1.0\n",
    "print(\"core_year(start,finish,size) = \",core_year[0], core_year[59], len(core_year))"
   ]
  },
  {
   "cell_type": "code",
   "execution_count": 5,
   "metadata": {},
   "outputs": [],
   "source": [
    "#SPECIFY INPUT DIRECTORIES\n",
    "#UMO\n",
    "\n",
    "dirname = \"/work/a1r/smg/OWG/OM4_analysis\" #This is the root directory for input datasets.\n",
    "fname_p25 = dirname+\"/OM4p25_IAF_BLING_CFC_csf/umo/single_cycles/ocean_Drake_Passage.*.umo.nc\"\n",
    "fname_p5  = dirname+\"/OM4p5_IAF_BLING_CFC_abio_csf_mle200/umo/single_cycles/ocean_Drake_Passage.*.umo.nc\"\n",
    "fname_p5n = dirname+\"/OM4p5_IAF_BLING_CFC_abio_csf_p25config/umo/single_cycles/ocean_Drake_Passage.*.umo.nc\"\n",
    "\n",
    "#VMO\n",
    "fname_p25_tau = dirname+'/OM4p25_IAF_BLING_CFC_csf/tauuo/tauuo_ann_p25.nc'\n",
    "fname_p5n_tau = dirname+'/OM4p5_IAF_BLING_CFC_abio_csf_p25config/tauuo/tauuo_ann_p5none.nc'\n",
    "fname_p5_tau  = dirname+'/OM4p5_IAF_BLING_CFC_abio_csf_mle200/tauuo/tauuo_ann_p5.nc'\n",
    "\n",
    "#CELL THICKNESS VOLCELLO\n",
    "\n",
    "fname_vol = dirname+\"/OM4p5_IAF_BLING_CFC_abio_csf_mle200/volcello/ocean_annual_z.1988-2007.volcello.nc\"\n",
    "\n",
    "#OUTPUT DIRECTORY\n",
    "\n",
    "outdir = \"/home/a1r/ipy/Notebooks/OM4-figures/\"\n",
    "\n",
    "if not os.path.exists(outdir+\"/figures\"):\n",
    "    os.makedirs(outdir+\"/figures\")\n",
    "\n"
   ]
  },
  {
   "cell_type": "code",
   "execution_count": 6,
   "metadata": {},
   "outputs": [],
   "source": [
    "# let xarray open up multiple files and merge them into a single time series\n",
    "ds_p25 = xr.open_mfdataset(fname_p25)\n",
    "ds_p5  = xr.open_mfdataset(fname_p5)\n",
    "ds_p5n = xr.open_mfdataset(fname_p5n)"
   ]
  },
  {
   "cell_type": "code",
   "execution_count": 7,
   "metadata": {},
   "outputs": [
    {
     "name": "stdout",
     "output_type": "stream",
     "text": [
      "(35,)\n",
      "[  5.   10.   10.   15.   22.5  25.   25.   25.   37.5  50.   50.   75.\n",
      " 100.  100.  100.  100.  100.  100.  100.  100.  100.  100.  100.  175.\n",
      " 250.  375.  500.  500.  500.  500.  500.  500.  500.  500.  500. ]\n",
      "(35,)\n",
      "[  5.   10.   10.   15.   22.5  25.   25.   25.   37.5  50.   50.   75.\n",
      " 100.  100.  100.  100.  100.  100.  100.  100.  100.  100.  100.  175.\n",
      " 250.  375.  500.  500.  500.  500.  500.  500.  500.  500.  500. ]\n",
      "[0.2 0.1 0.1 0.06666666666666667 0.044444444444444446 0.04 0.04 0.04\n",
      " 0.02666666666666667 0.02 0.02 0.013333333333333334 0.01 0.01 0.01 0.01\n",
      " 0.01 0.01 0.01 0.01 0.01 0.01 0.01 0.005714285714285714 0.004\n",
      " 0.0026666666666666666 0.002 0.002 0.002 0.002 0.002 0.002 0.002 0.002\n",
      " 0.002]\n"
     ]
    },
    {
     "data": {
      "text/plain": [
       "(None, None, None)"
      ]
     },
     "execution_count": 7,
     "metadata": {},
     "output_type": "execute_result"
    }
   ],
   "source": [
    "# use cell thicknesses \n",
    "\n",
    "#ds_vol = xr.open_dataset(fname_vol)\n",
    "ds_vol = netCDF4.Dataset(fname_vol)\n",
    "\n",
    "#print(ds_vol)\n",
    "#dzip1 = ds_vol.z_i[1:]\n",
    "#print(dzip1.values())\n",
    "\n",
    "z_i = ds_vol.variables['z_i']\n",
    "dz  = z_i[1:] - z_i[:-1]\n",
    "print(dz.shape), print(dz)\n",
    "dzinv = 1.0/dz\n",
    "print(dz.shape), print(dz), print(dzinv)"
   ]
  },
  {
   "cell_type": "code",
   "execution_count": 8,
   "metadata": {},
   "outputs": [
    {
     "name": "stdout",
     "output_type": "stream",
     "text": [
      "<xarray.DataArray 'umo' (time: 3600, z_l: 35, yh_sub02: 144, xq_sub01: 35)>\n",
      "dask.array<shape=(3600, 35, 144, 35), dtype=float64, chunksize=(720, 35, 144, 35)>\n",
      "Coordinates:\n",
      "  * xq_sub01  (xq_sub01) float64 -70.01\n",
      "  * yh_sub02  (yh_sub02) float64 0.0 0.0 0.0 0.0 ... -54.92 -54.78 -54.64 -54.49\n",
      "  * z_l       (z_l) float64 2.5 10.0 20.0 32.5 ... 5e+03 5.5e+03 6e+03 6.5e+03\n",
      "  * time      (time) object 1708-01-16 12:00:00 ... 2007-12-16 12:00:00\n"
     ]
    }
   ],
   "source": [
    "# extract umo and sum along y and z to produce Drake passage transport \n",
    "\n",
    "umo_p25   = ds_p25.umo\n",
    "trans_p25 = umo_p25.sum('z_l').sum('yh_sub02')/1e9\n",
    "Drake_p25_annual = trans_p25.groupby(trans_p25.time.dt.year).mean('time')\n",
    "uo_p25    = umo_p25*dzinv\n",
    "\n",
    "umo_p5   = ds_p5.umo\n",
    "trans_p5 = umo_p5.sum('z_l').sum('yh_sub01')/1e9\n",
    "Drake_p5_annual = trans_p5.groupby(trans_p5.time.dt.year).mean('time')\n",
    "uo_p5     = umo_p5*dzinv\n",
    "\n",
    "umo_p5n   = ds_p5n.umo\n",
    "trans_p5n = umo_p5n.sum('z_l').sum('yh_sub01')/1e9\n",
    "Drake_p5n_annual = trans_p5n.groupby(trans_p5n.time.dt.year).mean('time')\n",
    "uo_p5n    = umo_p5n*dzinv\n",
    "\n",
    "print(uo_p25)"
   ]
  },
  {
   "cell_type": "code",
   "execution_count": 9,
   "metadata": {},
   "outputs": [
    {
     "name": "stdout",
     "output_type": "stream",
     "text": [
      "<xarray.DataArray 'umo' (z_l: 35, yh_sub02: 138)>\n",
      "dask.array<shape=(35, 138), dtype=float32, chunksize=(35, 138)>\n",
      "Coordinates:\n",
      "    xq_sub01  float64 -70.01\n",
      "  * yh_sub02  (yh_sub02) float64 -70.35 -70.25 -70.15 ... -54.78 -54.64 -54.49\n",
      "  * z_l       (z_l) float64 2.5 10.0 20.0 32.5 ... 5e+03 5.5e+03 6e+03 6.5e+03\n"
     ]
    }
   ],
   "source": [
    "# time mean over years 1988-2007 \n",
    "umo_p25_annual = umo_p25.groupby(umo_p25.time.dt.year).mean('time')\n",
    "umo_p5_annual  = umo_p5.groupby(umo_p5.time.dt.year).mean('time')\n",
    "umo_p5n_annual = umo_p5n.groupby(umo_p5n.time.dt.year).mean('time')\n",
    "\n",
    "umo_p25_1988_2007 = 1e-9*np.mean(umo_p25_annual[280:300,:,:,:],axis=0).squeeze('xq_sub01')\n",
    "umo_p5_1988_2007 = 1e-9*np.mean(umo_p5_annual[280:300,:,:,:],axis=0).squeeze('xq_sub01')\n",
    "umo_p5n_1988_2007 = 1e-9*np.mean(umo_p5n_annual[280:300,:,:,:],axis=0).squeeze('xq_sub01')\n",
    "\n",
    "print(umo_p25_1988_2007[:,6:])\n"
   ]
  },
  {
   "cell_type": "code",
   "execution_count": 10,
   "metadata": {},
   "outputs": [
    {
     "name": "stdout",
     "output_type": "stream",
     "text": [
      "<xarray.DataArray 'umo' (year: 300, z_l: 35, yh_sub02: 144, xq_sub01: 35)>\n",
      "dask.array<shape=(300, 35, 144, 35), dtype=float64, chunksize=(1, 35, 144, 35)>\n",
      "Coordinates:\n",
      "  * xq_sub01  (xq_sub01) float64 -70.01\n",
      "  * yh_sub02  (yh_sub02) float64 0.0 0.0 0.0 0.0 ... -54.92 -54.78 -54.64 -54.49\n",
      "  * z_l       (z_l) float64 2.5 10.0 20.0 32.5 ... 5e+03 5.5e+03 6e+03 6.5e+03\n",
      "  * year      (year) int64 1708 1709 1710 1711 1712 ... 2003 2004 2005 2006 2007\n"
     ]
    }
   ],
   "source": [
    "# time mean uo over years 1988-2007 \n",
    "\n",
    "uo_p25_annual = uo_p25.groupby(uo_p25.time.dt.year).mean('time')\n",
    "uo_p5_annual  = uo_p5.groupby(uo_p5.time.dt.year).mean('time')\n",
    "uo_p5n_annual = uo_p5n.groupby(uo_p5n.time.dt.year).mean('time')\n",
    "\n",
    "print(uo_p25_annual) \n",
    "\n",
    "#uo_p25_1988_2007 = np.mean(uo_p25_annual[280:300,:,:,:],axis=0).squeeze('xq_sub01')\n",
    "#uo_p5_1988_2007  = np.mean(uo_p5_annual[280:300,:,:,:],axis=0).squeeze('xq_sub01')\n",
    "#uo_p5n_1988_2007 = np.mean(uo_p5n_annual[280:300,:,:,:],axis=0).squeeze('xq_sub01')\n",
    "\n",
    "\n"
   ]
  },
  {
   "cell_type": "code",
   "execution_count": 11,
   "metadata": {},
   "outputs": [
    {
     "name": "stderr",
     "output_type": "stream",
     "text": [
      "/nbhome/Nkeh.Boh/anaconda3/lib/python3.7/site-packages/dask/array/numpy_compat.py:28: RuntimeWarning: invalid value encountered in true_divide\n",
      "  x = np.divide(x1, x2, out)\n"
     ]
    },
    {
     "ename": "PermissionError",
     "evalue": "[Errno 13] Permission denied: '/home/a1r/ipy/Notebooks/OM4-figures//figures/umo_mean_Drake_OM4p25.png'",
     "output_type": "error",
     "traceback": [
      "\u001b[0;31m---------------------------------------------------------------------------\u001b[0m",
      "\u001b[0;31mPermissionError\u001b[0m                           Traceback (most recent call last)",
      "\u001b[0;32m<ipython-input-11-8b45cb30be2a>\u001b[0m in \u001b[0;36m<module>\u001b[0;34m\u001b[0m\n\u001b[1;32m     16\u001b[0m \u001b[0maxis\u001b[0m\u001b[0;34m.\u001b[0m\u001b[0mset_title\u001b[0m\u001b[0;34m(\u001b[0m\u001b[0;34m\"Zonal transport (Sv) through Drake Passage for OM4p25\"\u001b[0m\u001b[0;34m,\u001b[0m\u001b[0mfontsize\u001b[0m\u001b[0;34m=\u001b[0m\u001b[0;36m20\u001b[0m\u001b[0;34m)\u001b[0m\u001b[0;34m\u001b[0m\u001b[0;34m\u001b[0m\u001b[0m\n\u001b[1;32m     17\u001b[0m \u001b[0;34m\u001b[0m\u001b[0m\n\u001b[0;32m---> 18\u001b[0;31m \u001b[0mfig\u001b[0m\u001b[0;34m.\u001b[0m\u001b[0msavefig\u001b[0m\u001b[0;34m(\u001b[0m\u001b[0moutdir\u001b[0m\u001b[0;34m+\u001b[0m\u001b[0;34m'/figures/umo_mean_Drake_OM4p25.png'\u001b[0m\u001b[0;34m,\u001b[0m \u001b[0mbbox_inches\u001b[0m\u001b[0;34m=\u001b[0m\u001b[0;34m'tight'\u001b[0m\u001b[0;34m,\u001b[0m \u001b[0mdpi\u001b[0m\u001b[0;34m=\u001b[0m\u001b[0;36m300\u001b[0m\u001b[0;34m)\u001b[0m\u001b[0;34m\u001b[0m\u001b[0;34m\u001b[0m\u001b[0m\n\u001b[0m",
      "\u001b[0;32m/nbhome/Nkeh.Boh/anaconda3/lib/python3.7/site-packages/matplotlib/figure.py\u001b[0m in \u001b[0;36msavefig\u001b[0;34m(self, fname, frameon, transparent, **kwargs)\u001b[0m\n\u001b[1;32m   2092\u001b[0m             \u001b[0mself\u001b[0m\u001b[0;34m.\u001b[0m\u001b[0mset_frameon\u001b[0m\u001b[0;34m(\u001b[0m\u001b[0mframeon\u001b[0m\u001b[0;34m)\u001b[0m\u001b[0;34m\u001b[0m\u001b[0;34m\u001b[0m\u001b[0m\n\u001b[1;32m   2093\u001b[0m \u001b[0;34m\u001b[0m\u001b[0m\n\u001b[0;32m-> 2094\u001b[0;31m         \u001b[0mself\u001b[0m\u001b[0;34m.\u001b[0m\u001b[0mcanvas\u001b[0m\u001b[0;34m.\u001b[0m\u001b[0mprint_figure\u001b[0m\u001b[0;34m(\u001b[0m\u001b[0mfname\u001b[0m\u001b[0;34m,\u001b[0m \u001b[0;34m**\u001b[0m\u001b[0mkwargs\u001b[0m\u001b[0;34m)\u001b[0m\u001b[0;34m\u001b[0m\u001b[0;34m\u001b[0m\u001b[0m\n\u001b[0m\u001b[1;32m   2095\u001b[0m \u001b[0;34m\u001b[0m\u001b[0m\n\u001b[1;32m   2096\u001b[0m         \u001b[0;32mif\u001b[0m \u001b[0mframeon\u001b[0m\u001b[0;34m:\u001b[0m\u001b[0;34m\u001b[0m\u001b[0;34m\u001b[0m\u001b[0m\n",
      "\u001b[0;32m/nbhome/Nkeh.Boh/anaconda3/lib/python3.7/site-packages/matplotlib/backend_bases.py\u001b[0m in \u001b[0;36mprint_figure\u001b[0;34m(self, filename, dpi, facecolor, edgecolor, orientation, format, bbox_inches, **kwargs)\u001b[0m\n\u001b[1;32m   2073\u001b[0m                     \u001b[0morientation\u001b[0m\u001b[0;34m=\u001b[0m\u001b[0morientation\u001b[0m\u001b[0;34m,\u001b[0m\u001b[0;34m\u001b[0m\u001b[0;34m\u001b[0m\u001b[0m\n\u001b[1;32m   2074\u001b[0m                     \u001b[0mbbox_inches_restore\u001b[0m\u001b[0;34m=\u001b[0m\u001b[0m_bbox_inches_restore\u001b[0m\u001b[0;34m,\u001b[0m\u001b[0;34m\u001b[0m\u001b[0;34m\u001b[0m\u001b[0m\n\u001b[0;32m-> 2075\u001b[0;31m                     **kwargs)\n\u001b[0m\u001b[1;32m   2076\u001b[0m             \u001b[0;32mfinally\u001b[0m\u001b[0;34m:\u001b[0m\u001b[0;34m\u001b[0m\u001b[0;34m\u001b[0m\u001b[0m\n\u001b[1;32m   2077\u001b[0m                 \u001b[0;32mif\u001b[0m \u001b[0mbbox_inches\u001b[0m \u001b[0;32mand\u001b[0m \u001b[0mrestore_bbox\u001b[0m\u001b[0;34m:\u001b[0m\u001b[0;34m\u001b[0m\u001b[0;34m\u001b[0m\u001b[0m\n",
      "\u001b[0;32m/nbhome/Nkeh.Boh/anaconda3/lib/python3.7/site-packages/matplotlib/backends/backend_agg.py\u001b[0m in \u001b[0;36mprint_png\u001b[0;34m(self, filename_or_obj, *args, **kwargs)\u001b[0m\n\u001b[1;32m    519\u001b[0m \u001b[0;34m\u001b[0m\u001b[0m\n\u001b[1;32m    520\u001b[0m         \u001b[0;32mwith\u001b[0m \u001b[0mcbook\u001b[0m\u001b[0;34m.\u001b[0m\u001b[0m_setattr_cm\u001b[0m\u001b[0;34m(\u001b[0m\u001b[0mrenderer\u001b[0m\u001b[0;34m,\u001b[0m \u001b[0mdpi\u001b[0m\u001b[0;34m=\u001b[0m\u001b[0mself\u001b[0m\u001b[0;34m.\u001b[0m\u001b[0mfigure\u001b[0m\u001b[0;34m.\u001b[0m\u001b[0mdpi\u001b[0m\u001b[0;34m)\u001b[0m\u001b[0;34m,\u001b[0m\u001b[0;31m \u001b[0m\u001b[0;31m\\\u001b[0m\u001b[0;34m\u001b[0m\u001b[0;34m\u001b[0m\u001b[0m\n\u001b[0;32m--> 521\u001b[0;31m                 \u001b[0mcbook\u001b[0m\u001b[0;34m.\u001b[0m\u001b[0mopen_file_cm\u001b[0m\u001b[0;34m(\u001b[0m\u001b[0mfilename_or_obj\u001b[0m\u001b[0;34m,\u001b[0m \u001b[0;34m\"wb\"\u001b[0m\u001b[0;34m)\u001b[0m \u001b[0;32mas\u001b[0m \u001b[0mfh\u001b[0m\u001b[0;34m:\u001b[0m\u001b[0;34m\u001b[0m\u001b[0;34m\u001b[0m\u001b[0m\n\u001b[0m\u001b[1;32m    522\u001b[0m             _png.write_png(renderer._renderer, fh,\n\u001b[1;32m    523\u001b[0m                             self.figure.dpi, metadata=metadata)\n",
      "\u001b[0;32m/nbhome/Nkeh.Boh/anaconda3/lib/python3.7/contextlib.py\u001b[0m in \u001b[0;36m__enter__\u001b[0;34m(self)\u001b[0m\n\u001b[1;32m    110\u001b[0m         \u001b[0;32mdel\u001b[0m \u001b[0mself\u001b[0m\u001b[0;34m.\u001b[0m\u001b[0margs\u001b[0m\u001b[0;34m,\u001b[0m \u001b[0mself\u001b[0m\u001b[0;34m.\u001b[0m\u001b[0mkwds\u001b[0m\u001b[0;34m,\u001b[0m \u001b[0mself\u001b[0m\u001b[0;34m.\u001b[0m\u001b[0mfunc\u001b[0m\u001b[0;34m\u001b[0m\u001b[0;34m\u001b[0m\u001b[0m\n\u001b[1;32m    111\u001b[0m         \u001b[0;32mtry\u001b[0m\u001b[0;34m:\u001b[0m\u001b[0;34m\u001b[0m\u001b[0;34m\u001b[0m\u001b[0m\n\u001b[0;32m--> 112\u001b[0;31m             \u001b[0;32mreturn\u001b[0m \u001b[0mnext\u001b[0m\u001b[0;34m(\u001b[0m\u001b[0mself\u001b[0m\u001b[0;34m.\u001b[0m\u001b[0mgen\u001b[0m\u001b[0;34m)\u001b[0m\u001b[0;34m\u001b[0m\u001b[0;34m\u001b[0m\u001b[0m\n\u001b[0m\u001b[1;32m    113\u001b[0m         \u001b[0;32mexcept\u001b[0m \u001b[0mStopIteration\u001b[0m\u001b[0;34m:\u001b[0m\u001b[0;34m\u001b[0m\u001b[0;34m\u001b[0m\u001b[0m\n\u001b[1;32m    114\u001b[0m             \u001b[0;32mraise\u001b[0m \u001b[0mRuntimeError\u001b[0m\u001b[0;34m(\u001b[0m\u001b[0;34m\"generator didn't yield\"\u001b[0m\u001b[0;34m)\u001b[0m \u001b[0;32mfrom\u001b[0m \u001b[0;32mNone\u001b[0m\u001b[0;34m\u001b[0m\u001b[0;34m\u001b[0m\u001b[0m\n",
      "\u001b[0;32m/nbhome/Nkeh.Boh/anaconda3/lib/python3.7/site-packages/matplotlib/cbook/__init__.py\u001b[0m in \u001b[0;36mopen_file_cm\u001b[0;34m(path_or_file, mode, encoding)\u001b[0m\n\u001b[1;32m    405\u001b[0m \u001b[0;32mdef\u001b[0m \u001b[0mopen_file_cm\u001b[0m\u001b[0;34m(\u001b[0m\u001b[0mpath_or_file\u001b[0m\u001b[0;34m,\u001b[0m \u001b[0mmode\u001b[0m\u001b[0;34m=\u001b[0m\u001b[0;34m\"r\"\u001b[0m\u001b[0;34m,\u001b[0m \u001b[0mencoding\u001b[0m\u001b[0;34m=\u001b[0m\u001b[0;32mNone\u001b[0m\u001b[0;34m)\u001b[0m\u001b[0;34m:\u001b[0m\u001b[0;34m\u001b[0m\u001b[0;34m\u001b[0m\u001b[0m\n\u001b[1;32m    406\u001b[0m     \u001b[0;34mr\"\"\"Pass through file objects and context-manage `.PathLike`\\s.\"\"\"\u001b[0m\u001b[0;34m\u001b[0m\u001b[0;34m\u001b[0m\u001b[0m\n\u001b[0;32m--> 407\u001b[0;31m     \u001b[0mfh\u001b[0m\u001b[0;34m,\u001b[0m \u001b[0mopened\u001b[0m \u001b[0;34m=\u001b[0m \u001b[0mto_filehandle\u001b[0m\u001b[0;34m(\u001b[0m\u001b[0mpath_or_file\u001b[0m\u001b[0;34m,\u001b[0m \u001b[0mmode\u001b[0m\u001b[0;34m,\u001b[0m \u001b[0;32mTrue\u001b[0m\u001b[0;34m,\u001b[0m \u001b[0mencoding\u001b[0m\u001b[0;34m)\u001b[0m\u001b[0;34m\u001b[0m\u001b[0;34m\u001b[0m\u001b[0m\n\u001b[0m\u001b[1;32m    408\u001b[0m     \u001b[0;32mif\u001b[0m \u001b[0mopened\u001b[0m\u001b[0;34m:\u001b[0m\u001b[0;34m\u001b[0m\u001b[0;34m\u001b[0m\u001b[0m\n\u001b[1;32m    409\u001b[0m         \u001b[0;32mwith\u001b[0m \u001b[0mfh\u001b[0m\u001b[0;34m:\u001b[0m\u001b[0;34m\u001b[0m\u001b[0;34m\u001b[0m\u001b[0m\n",
      "\u001b[0;32m/nbhome/Nkeh.Boh/anaconda3/lib/python3.7/site-packages/matplotlib/cbook/__init__.py\u001b[0m in \u001b[0;36mto_filehandle\u001b[0;34m(fname, flag, return_opened, encoding)\u001b[0m\n\u001b[1;32m    390\u001b[0m             \u001b[0mfh\u001b[0m \u001b[0;34m=\u001b[0m \u001b[0mbz2\u001b[0m\u001b[0;34m.\u001b[0m\u001b[0mBZ2File\u001b[0m\u001b[0;34m(\u001b[0m\u001b[0mfname\u001b[0m\u001b[0;34m,\u001b[0m \u001b[0mflag\u001b[0m\u001b[0;34m)\u001b[0m\u001b[0;34m\u001b[0m\u001b[0;34m\u001b[0m\u001b[0m\n\u001b[1;32m    391\u001b[0m         \u001b[0;32melse\u001b[0m\u001b[0;34m:\u001b[0m\u001b[0;34m\u001b[0m\u001b[0;34m\u001b[0m\u001b[0m\n\u001b[0;32m--> 392\u001b[0;31m             \u001b[0mfh\u001b[0m \u001b[0;34m=\u001b[0m \u001b[0mopen\u001b[0m\u001b[0;34m(\u001b[0m\u001b[0mfname\u001b[0m\u001b[0;34m,\u001b[0m \u001b[0mflag\u001b[0m\u001b[0;34m,\u001b[0m \u001b[0mencoding\u001b[0m\u001b[0;34m=\u001b[0m\u001b[0mencoding\u001b[0m\u001b[0;34m)\u001b[0m\u001b[0;34m\u001b[0m\u001b[0;34m\u001b[0m\u001b[0m\n\u001b[0m\u001b[1;32m    393\u001b[0m         \u001b[0mopened\u001b[0m \u001b[0;34m=\u001b[0m \u001b[0;32mTrue\u001b[0m\u001b[0;34m\u001b[0m\u001b[0;34m\u001b[0m\u001b[0m\n\u001b[1;32m    394\u001b[0m     \u001b[0;32melif\u001b[0m \u001b[0mhasattr\u001b[0m\u001b[0;34m(\u001b[0m\u001b[0mfname\u001b[0m\u001b[0;34m,\u001b[0m \u001b[0;34m'seek'\u001b[0m\u001b[0;34m)\u001b[0m\u001b[0;34m:\u001b[0m\u001b[0;34m\u001b[0m\u001b[0;34m\u001b[0m\u001b[0m\n",
      "\u001b[0;31mPermissionError\u001b[0m: [Errno 13] Permission denied: '/home/a1r/ipy/Notebooks/OM4-figures//figures/umo_mean_Drake_OM4p25.png'"
     ]
    },
    {
     "data": {
      "image/png": "[encoded data removed]",
      "text/plain": [
       "<Figure size 1080x576 with 2 Axes>"
      ]
     },
     "metadata": {},
     "output_type": "display_data"
    }
   ],
   "source": [
    "fig, axis = plt.subplots(1,1, figsize=(15,8))\n",
    "\n",
    "# need to use 6: since poleward values have yh_sub02=0.0, which leads \n",
    "# to non-monotonic coordinates, which is a problem.  \n",
    "\n",
    "levels_umo = np.arange(-1, 1, .1)\n",
    "umo_p25_1988_2007.name = '$U*dz*dy*rho$'\n",
    "umo_p25_1988_2007[:,6:].where(umo_p25_1988_2007[:,6:] != .1).sel(z_l=slice(0, 5000),yh_sub02=slice(-70,-54)).plot.pcolormesh(levels=levels_umo,extend='neither',cmap='RdBu_r', yincrease=False)\n",
    "#umo_p25_1988_2007[:,:].where(umo_p25_1988_2007[:,:] != .1).sel(z_l=slice(0, 5000),yh_sub02=slice(-70,-54)).plot.pcolormesh(levels=levels_umo,extend='neither',cmap='RdBu_r', yincrease=False)\n",
    "\n",
    "#umo_p25_1988_2007[:,6:].where(umo_p25_1988_2007[:,6:] != .1).plot.contour(yincrease=False, colors='black',levels=levels_umo)\n",
    "\n",
    "axis.set_ylabel(\"Depth [m]\",fontsize=15)\n",
    "axis.set_xlabel(\"latitude\",fontsize=15)\n",
    "axis.set_facecolor('black')\n",
    "axis.set_title(\"Zonal transport (Sv) through Drake Passage for OM4p25\",fontsize=20)\n",
    "\n",
    "fig.savefig(outdir+'/figures/umo_mean_Drake_OM4p25.png', bbox_inches='tight', dpi=300)"
   ]
  },
  {
   "cell_type": "code",
   "execution_count": null,
   "metadata": {},
   "outputs": [],
   "source": [
    "fig, axis = plt.subplots(1,1, figsize=(15,8))\n",
    "\n",
    "levels_umo = np.arange(-1, 1, .1)\n",
    "umo_p5_1988_2007.name = '$U*dz*dy*rho$'\n",
    "umo_p5_1988_2007.where(umo_p5_1988_2007 != .1).sel(z_l=slice(0, 5000),yh_sub01=slice(-70,-54)).plot.pcolormesh(levels=levels_umo,extend='neither',cmap='RdBu_r', yincrease=False)\n",
    "\n",
    "axis.set_ylabel(\"Depth [m]\",fontsize=15)\n",
    "axis.set_xlabel(\"latitude\",fontsize=15)\n",
    "axis.set_facecolor('black')\n",
    "axis.set_title(\"Zonal transport (Sv) through Drake Passage for OM4p5\",fontsize=20)\n",
    "\n",
    "fig.savefig(outdir+'/figures/umo_mean_Drake_OM4p5.png', bbox_inches='tight', dpi=300)"
   ]
  },
  {
   "cell_type": "code",
   "execution_count": null,
   "metadata": {},
   "outputs": [],
   "source": [
    "fig, axis = plt.subplots(1,1, figsize=(15,8))\n",
    "\n",
    "levels_umo = np.arange(-1, 1, .1)\n",
    "umo_p5n_1988_2007.name = '$U*dz*dy*rho$'\n",
    "umo_p5n_1988_2007.where(umo_p5n_1988_2007 != .1).sel(z_l=slice(0, 5000),yh_sub01=slice(-70,-54)).plot.pcolormesh(levels=levels_umo,extend='neither',cmap='RdBu_r', yincrease=False)\n",
    "\n",
    "axis.set_ylabel(\"Depth [m]\",fontsize=15)\n",
    "axis.set_xlabel(\"latitude\",fontsize=15)\n",
    "axis.set_facecolor('black')\n",
    "axis.set_title(\"Zonal transport (Sv) through Drake Passage for OM4p5n\",fontsize=20)\n",
    "\n",
    "fig.savefig(outdir+'/figures/umo_mean_Drake_OM4p5n.png', bbox_inches='tight', dpi=300)\n"
   ]
  },
  {
   "cell_type": "code",
   "execution_count": null,
   "metadata": {},
   "outputs": [],
   "source": [
    "# extract mean and produce anomalies \n",
    "startyear = 180\n",
    "\n",
    "#Drake_p25_mean = Drake_p25_annual[120:300].mean('year')\n",
    "Drake_p25_mean = Drake_p25_annual[startyear:300].mean('year')\n",
    "\n",
    "Drake_p25_1st  = Drake_p25_annual[0:60]     - Drake_p25_mean\n",
    "Drake_p25_2nd  = Drake_p25_annual[60:120]   - Drake_p25_mean\n",
    "Drake_p25_3rd  = Drake_p25_annual[120:180]  - Drake_p25_mean\n",
    "Drake_p25_4th  = Drake_p25_annual[180:240]  - Drake_p25_mean\n",
    "Drake_p25_5th  = Drake_p25_annual[240:300]  - Drake_p25_mean\n",
    "\n",
    "\n",
    "Drake_p5_mean = Drake_p5_annual[startyear:300].mean('year')\n",
    "Drake_p5_1st = Drake_p5_annual[0:60]     - Drake_p5_mean\n",
    "Drake_p5_2nd = Drake_p5_annual[60:120]   - Drake_p5_mean\n",
    "Drake_p5_3rd = Drake_p5_annual[120:180]  - Drake_p5_mean\n",
    "Drake_p5_4th = Drake_p5_annual[180:240]  - Drake_p5_mean\n",
    "Drake_p5_5th = Drake_p5_annual[240:300]  - Drake_p5_mean\n",
    "\n",
    "Drake_p5n_mean = Drake_p5n_annual[startyear:300].mean('year')\n",
    "Drake_p5n_1st = Drake_p5n_annual[0:60]     - Drake_p5n_mean\n",
    "Drake_p5n_2nd = Drake_p5n_annual[60:120]   - Drake_p5n_mean\n",
    "Drake_p5n_3rd = Drake_p5n_annual[120:180]  - Drake_p5n_mean\n",
    "Drake_p5n_4th = Drake_p5n_annual[180:240]  - Drake_p5n_mean\n",
    "Drake_p5n_5th = Drake_p5n_annual[240:300]  - Drake_p5n_mean\n"
   ]
  },
  {
   "cell_type": "code",
   "execution_count": null,
   "metadata": {},
   "outputs": [],
   "source": [
    "plt.figure(figsize=(12, 6))\n",
    "plt.plot(core_year,Drake_p25_3rd,linewidth=2,color='green')\n",
    "plt.plot(core_year,Drake_p25_4th,linewidth=2,color='blue')\n",
    "plt.plot(core_year,Drake_p25_5th,linewidth=2,color='black')\n",
    "#plt.plot(core_year,Drake_p25_ensm,linewidth=3,color='red')\n",
    "plt.title(r'OM4p25 Drake Passage',fontsize=18)\n",
    "plt.ylabel('Transport (Sv)',fontsize=18)\n",
    "plt.xlabel('year',fontsize=18)\n",
    "plt.grid()\n",
    "plt.savefig('Drake_OM4p25.png', dpi = 300)"
   ]
  },
  {
   "cell_type": "code",
   "execution_count": null,
   "metadata": {},
   "outputs": [],
   "source": [
    "plt.figure(figsize=(12, 6))\n",
    "plt.plot(core_year,Drake_p5_3rd,linewidth=2,color='green')\n",
    "plt.plot(core_year,Drake_p5_4th,linewidth=2,color='blue')\n",
    "plt.plot(core_year,Drake_p5_5th,linewidth=2,color='black')\n",
    "#plt.plot(core_year,Drake_p25_ensm,linewidth=3,color='red')\n",
    "plt.title(r'OM4p5 Drake Passage',fontsize=18)\n",
    "plt.ylabel('Transport (Sv)',fontsize=18)\n",
    "plt.xlabel('year',fontsize=18)\n",
    "plt.grid()\n",
    "plt.savefig('Drake_OM4p5.png', dpi = 300)"
   ]
  },
  {
   "cell_type": "code",
   "execution_count": null,
   "metadata": {},
   "outputs": [],
   "source": [
    "plt.figure(figsize=(12, 6))\n",
    "plt.plot(core_year,Drake_p5n_3rd,linewidth=2,color='green')\n",
    "plt.plot(core_year,Drake_p5n_4th,linewidth=2,color='blue')\n",
    "plt.plot(core_year,Drake_p5n_5th,linewidth=2,color='black')\n",
    "plt.title(r'OM4p5n Drake Passage',fontsize=18)\n",
    "plt.ylabel('Transport (Sv)',fontsize=18)\n",
    "plt.xlabel('year',fontsize=18)\n",
    "\n",
    "plt.grid()\n",
    "\n",
    "plt.savefig('Drake_OM4p5n.png', dpi = 300)"
   ]
  },
  {
   "cell_type": "code",
   "execution_count": null,
   "metadata": {},
   "outputs": [],
   "source": [
    "# linear regression fits for 4th and 5th cycle over years 1958-2007 for p25 and p5 \n",
    "\n",
    "X = core_year\n",
    "yrstart = 10    # to start at 1958\n",
    "\n",
    "#Y_p5  = 0.5*( Drake_p5_4th[0:60].squeeze('xq_sub01').values  + Drake_p5_5th[0:60].squeeze('xq_sub01').values)\n",
    "#Y_p25 = 0.5*( Drake_p25_4th[0:60].squeeze('xq_sub01').values + Drake_p25_5th[0:60].squeeze('xq_sub01').values)\n",
    "\n",
    "Y_p5  = Drake_p5_5th[0:60].squeeze('xq_sub01').values\n",
    "Y_p25 = Drake_p25_5th[0:60].squeeze('xq_sub01').values\n",
    "\n",
    "\n",
    "slope_p5, intercept_p5, r_value_p5, p_value_p5, std_err=stats.linregress(X[yrstart:60],Y_p5[yrstart:60])\n",
    "slope_p25,intercept_p25,r_value_p25,p_value_p25,std_err=stats.linregress(X[yrstart:60],Y_p25[yrstart:60])\n",
    "\n",
    "p5_fit  = X * slope_p5  + intercept_p5\n",
    "p25_fit = X * slope_p25 + intercept_p25\n",
    "\n",
    "sp5 = format(slope_p5, '.3f')\n",
    "ip5 = format(intercept_p5, '.3f')\n",
    "rp5 = format(r_value_p5, '.3f')\n",
    "pp5 = format(p_value_p5, '.5f')\n",
    "\n",
    "sp25 = format(slope_p25, '.3f')\n",
    "ip25 = format(intercept_p25, '.3f')\n",
    "rp25 = format(r_value_p25, '.3f')\n",
    "pp25 = format(p_value_p25, '.5f')\n",
    "\n",
    "print(\"for OM4_p25: slope,intercept,r_value,p_value = \",sp25,ip25,rp25,pp25)\n",
    "print(\"for OM4_p5:  slppe,intercept,r_value,p_value = \",sp5,ip5,rp5,pp5)"
   ]
  },
  {
   "cell_type": "code",
   "execution_count": null,
   "metadata": {},
   "outputs": [],
   "source": [
    "fig = plt.figure(figsize=(12, 6))\n",
    "\n",
    "ymin=-7\n",
    "ymax=12\n",
    "\n",
    "plt.subplot(1, 2, 1)\n",
    "#plt.plot(core_year,Drake_p25_4th,linewidth=1,color='black')\n",
    "#plt.plot(core_year,Drake_p25_5th,linewidth=1,color='blue')\n",
    "plt.plot(core_year,Y_p25,linewidth=2,color='green')\n",
    "plt.plot(core_year,p25_fit,linewidth=3,color='red')\n",
    "\n",
    "plt.title(r'OM4p25 Drake Passage',fontsize=18)\n",
    "plt.ylabel('Transport (Sv)',fontsize=18)\n",
    "plt.xlabel('year',fontsize=18)\n",
    "plt.grid()\n",
    "plt.ylim([ymin, ymax])\n",
    "plt.xlim([1958,2010])\n",
    "\n",
    "\n",
    "plt.subplot(1, 2, 2)\n",
    "#plt.plot(core_year,Drake_p5_4th,linewidth=1,color='black')\n",
    "#plt.plot(core_year,Drake_p5_5th,linewidth=1,color='blue')\n",
    "plt.plot(core_year,Y_p5,linewidth=2,color='green')\n",
    "plt.plot(core_year,p5_fit,linewidth=3,color='red')\n",
    "\n",
    "plt.title(r'OM4p5 Drake Passage',fontsize=18)\n",
    "plt.xlabel('year',fontsize=18)\n",
    "plt.grid()\n",
    "plt.ylim([ymin, ymax])\n",
    "plt.xlim([1958,2010])\n",
    "#plt.legend(['4th', '5th', 'mean', 'linear fit'])\n",
    "\n",
    "\n",
    "plt.savefig('./figures/Drake_OM4p25_OM4p5.png', dpi = 300)\n",
    "\n"
   ]
  },
  {
   "cell_type": "code",
   "execution_count": null,
   "metadata": {},
   "outputs": [],
   "source": [
    "# now gather the wind stresses \n",
    "\n",
    "ds_p25_tau = xr.open_dataset(fname_p25_tau)\n",
    "ds_p5n_tau = xr.open_dataset(fname_p5n_tau)\n",
    "ds_p5_tau  = xr.open_dataset(fname_p5_tau)\n",
    "\n",
    "ds_p25_tau = ds_p25_tau.rename({\"TAUUO_ANN\":\"TAUUO_ANN_p25\"})\n",
    "ds_p5n_tau = ds_p5n_tau.rename({\"TAUUO_ANN\":\"TAUUO_ANN_p5none\"})\n",
    "ds_p5_tau  = ds_p5_tau.rename({\"TAUUO_ANN\":\"TAUUO_ANN_p5\"})\n",
    "\n",
    "ds_tau = xr.merge([ds_p5_tau, ds_p5n_tau, ds_p25_tau])\n",
    "ds_tau = ds_tau.rename({'AX006':'time'})\n",
    "\n",
    "ds_tau\n",
    "\n",
    "tau_p25_max = ds_tau.TAUUO_ANN_p25.max('YH6_378')\n",
    "tau_p5_max  = ds_tau.TAUUO_ANN_p5.max('YH1_180')"
   ]
  },
  {
   "cell_type": "code",
   "execution_count": null,
   "metadata": {},
   "outputs": [],
   "source": [
    "# linear regression fits for max wind stresses  \n",
    "\n",
    "X = core_year\n",
    "yrstart = 10    # to start at 1958\n",
    "\n",
    "Y_tau_p5  = tau_p5_max\n",
    "Y_tau_p25 = tau_p25_max\n",
    "\n",
    "slope_tau_p5, intercept_tau_p5, r_value_tau_p5, p_value_tau_p5, std_err=stats.linregress(X[yrstart:60],Y_tau_p5[yrstart:60])\n",
    "slope_tau_p25,intercept_tau_p25,r_value_tau_p25,p_value_tau_p25,std_err=stats.linregress(X[yrstart:60],Y_tau_p25[yrstart:60])\n",
    "\n",
    "p5_tau_fit  = X * slope_tau_p5  + intercept_tau_p5\n",
    "p25_tau_fit = X * slope_tau_p25 + intercept_tau_p25\n",
    "\n",
    "tau_sp5 = format(slope_tau_p5, '.7f')\n",
    "tau_ip5 = format(intercept_tau_p5, '.3f')\n",
    "tau_rp5 = format(r_value_tau_p5, '.3f')\n",
    "tau_pp5 = format(p_value_tau_p5, '.5f')\n",
    "\n",
    "tau_sp25 = format(slope_tau_p25, '.7f')\n",
    "tau_ip25 = format(intercept_tau_p25, '.3f')\n",
    "tau_rp25 = format(r_value_tau_p25, '.3f')\n",
    "tau_pp25 = format(p_value_tau_p25, '.5f')\n",
    "\n",
    "print(\"for tau OM4_p25: slope,intercept,r_value,p_value = \",tau_sp25,tau_ip25,tau_rp25,tau_pp25)\n",
    "print(\"for tau OM4_p5:  slope,intercept,r_value,p_value = \",tau_sp5,tau_ip5,tau_rp5,tau_pp5)\n",
    "\n"
   ]
  },
  {
   "cell_type": "code",
   "execution_count": null,
   "metadata": {},
   "outputs": [],
   "source": [
    "fig = plt.figure(figsize=(12, 6))\n",
    "\n",
    "ymin = 0.1\n",
    "ymax = 0.18\n",
    "\n",
    "plt.subplot(1, 1, 1)\n",
    "\n",
    "plt.plot(core_year,p5_tau_fit,linewidth=2,color='black')\n",
    "plt.plot(core_year,p25_tau_fit,linewidth=2,color='blue')\n",
    "\n",
    "plt.plot(core_year,tau_p5_max,linewidth=1,color='black')\n",
    "plt.plot(core_year,tau_p25_max,linewidth=1,color='blue')\n",
    "\n",
    "\n",
    "plt.title(r'OM4p25 Southern Ocean max $\\tau$',fontsize=18)\n",
    "plt.ylabel('$N/m^{2}$',fontsize=18)\n",
    "plt.xlabel('year',fontsize=18)\n",
    "plt.grid()\n",
    "plt.ylim([ymin, ymax])\n",
    "plt.xlim([1958,2007])\n",
    "#plt.legend(['4th', '5th'])\n"
   ]
  },
  {
   "cell_type": "code",
   "execution_count": null,
   "metadata": {},
   "outputs": [],
   "source": [
    "fig, ax1 = plt.subplots(ncols=1, nrows=1, figsize=(10,10))\n",
    "ax2 = ax1.twinx()\n",
    "\n",
    "ymin=-7\n",
    "ymax=12\n",
    "\n",
    "\n",
    "ax1.plot(core_year,p25_fit,linewidth=3,color='black')\n",
    "ax1.plot(core_year,Y_p25,linewidth=1,color='black')\n",
    "\n",
    "ax1.plot(core_year,p5_fit,linewidth=3,color='blue')\n",
    "ax1.plot(core_year,Y_p5,linewidth=1,color='blue')\n",
    "\n",
    "ax2.plot(core_year,p25_tau_fit,linewidth=3,color='red')\n",
    "#ax2.plot(core_year,p5_tau_fit,linewidth=2,color='red')\n",
    "\n",
    "#ax2.plot(core_year,tau_p5_max,linewidth=1,color='black')\n",
    "#ax2.plot(core_year,tau_p25_max,linewidth=1,color='blue')\n",
    "\n",
    "plt.title('OM4 Drake Passage transport and max wind stress',fontsize=24)\n",
    "plt.xlabel('year',fontsize=18)\n",
    "plt.grid()\n",
    "plt.xlim([1958,2007])\n",
    "\n",
    "ax1.set_ylim([-7, 12])\n",
    "ax1.set_ylabel('Drake Passage transport (Sv)', color='blue',fontsize=24)\n",
    "ax1.tick_params('y', colors='blue')\n",
    "\n",
    "ax2.set_ylim([0.11,0.16])\n",
    "ax2.set_ylabel('Maximu S.O. wind stress (N/m$^2$)', color='red',fontsize=24)\n",
    "ax2.tick_params('y', colors='red')\n",
    "\n",
    "fig.tight_layout()\n",
    "\n",
    "plt.savefig('Drake_OM4_transport_and_winds.png', dpi = 300)"
   ]
  }
 ],
 "metadata": {
  "kernelspec": {
   "display_name": "Python 3",
   "language": "python",
   "name": "python3"
  },
  "language_info": {
   "codemirror_mode": {
    "name": "ipython",
    "version": 3
   },
   "file_extension": ".py",
   "mimetype": "text/x-python",
   "name": "python",
   "nbconvert_exporter": "python",
   "pygments_lexer": "ipython3",
   "version": "3.7.3"
  }
 },
 "nbformat": 4,
 "nbformat_minor": 2
}
