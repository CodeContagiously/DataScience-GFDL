{
 "cells": [
  {
   "cell_type": "code",
   "execution_count": null,
   "metadata": {},
   "outputs": [],
   "source": []
  },
  {
   "cell_type": "code",
   "execution_count": 1,
   "metadata": {},
   "outputs": [],
   "source": [
    "# from dask.distributed import Client\n",
    "# client = Client('127.0.0.1:35517')"
   ]
  },
  {
   "cell_type": "code",
   "execution_count": null,
   "metadata": {},
   "outputs": [],
   "source": [
    "import cartopy\n",
    "import cmocean\n",
    "import matplotlib.pyplot as plt\n",
    "import matplotlib.colors\n",
    "import matplotlib.colorbar\n",
    "import xarray as xr\n",
    "# import dask.array as da\n",
    "import numpy"
   ]
  },
  {
   "cell_type": "code",
   "execution_count": null,
   "metadata": {},
   "outputs": [],
   "source": [
    "# from dask.distributed import Client"
   ]
  },
  {
   "cell_type": "code",
   "execution_count": null,
   "metadata": {},
   "outputs": [],
   "source": [
    "# client = Client('140.208.147.173:34671')"
   ]
  },
  {
   "cell_type": "code",
   "execution_count": null,
   "metadata": {},
   "outputs": [],
   "source": [
    "# client"
   ]
  },
  {
   "cell_type": "markdown",
   "metadata": {},
   "source": [
    "## Change files beeing read"
   ]
  },
  {
   "cell_type": "code",
   "execution_count": null,
   "metadata": {},
   "outputs": [],
   "source": [
    "%%time\n",
    "#300yr OM4files, date 198801 - 200712\n",
    "\n",
    "OM4p25 = xr.open_zarr('/work/Nkeh.Boh/SST/ZarrDataset/OM4p25_tos_300yr.zarr')\n",
    "# OM4p25z = xr.open_zarr('/work/Nkeh.Boh/SST/ZarrDataset/OM4p25z_tos_300yr.zarr')\n",
    "# OM4p5nep = xr.open_zarr('/work/Nkeh.Boh/SST/ZarrDataset/OM4p5nep_tos_300yr.zarr')\n",
    "# OM4p5mle =xr.open_zarr('/work/Nkeh.Boh/SST/ZarrDataset/OM4p5mle_tos_300yr.zarr')\n",
    "OM4p5 = xr.open_zarr('/work/Nkeh.Boh/SST/ZarrDataset/OM4p05_tos_300yr.zarr')\n",
    "\n",
    "#WOA files\n",
    "W25 = xr.open_zarr('/work/Nkeh.Boh/SST/ZarrDataset/WOA25.zarr')\n",
    "W5 = xr.open_zarr('/work/Nkeh.Boh/SST/ZarrDataset/WOA05.zarr')\n",
    "# 105GB < T_fileSize <110GB\n",
    "\n",
    "#Grid files\n",
    "G25 = xr.open_zarr('/work/Nkeh.Boh/SST/ZarrDataset/Ocean_grid25.zarr')\n",
    "G5 = xr.open_zarr('/work/Nkeh.Boh/SST/ZarrDataset/Ocean_grid05.zarr')\n",
    "M25 = xr.open_zarr('/work/Nkeh.Boh/SST/ZarrDataset/Ocean_mask25.zarr')\n",
    "M5 = xr.open_zarr('/work/Nkeh.Boh/SST/ZarrDataset/Ocean_mask05.zarr')\n",
    "\n",
    "### Averaging\n",
    "OM4p25_av = OM4p25['tos'].mean(dim='time').load()\n",
    "# OM4p5nep_av = OM4p5nep['tos'].mean(dim='time').load()\n",
    "# OM4p25z_av = OM4p25z['tos'].mean(dim='time').load()\n",
    "OM4p5_av = OM4p5['tos'].mean(dim='time').load()\n",
    "# OM4p5mle_av = OM4p5mle['tos'].mean(dim='time').load()\n",
    "\n",
    "W25_av = W25['ptemp'].mean(axis=(0,1)).load()\n",
    "W5_av = W5['ptemp'].mean(axis=(0,1)).load()"
   ]
  },
  {
   "cell_type": "code",
   "execution_count": null,
   "metadata": {},
   "outputs": [],
   "source": [
    "%%time\n",
    "OM4p25_av = OM4p25_av.rename({'yh':'latitude','xh':'longitude'})\n",
    "OM4p25_av['latitude'], OM4p25_av['longitude'] = W25['latitude'], W25['longitude']\n",
    "\n",
    "# OM4p5nep_av = OM4p5nep_av.rename({'yh':'latitude','xh':'longitude'})\n",
    "# OM4p5nep_av['latitude'], OM4p5nep_av['longitude'] = W5_av['latitude'],W5_av['longitude']\n",
    "\n",
    "# OM4p25z_av = OM4p25z_av.rename({'yh':'latitude','xh':'longitude'})\n",
    "# OM4p25z_av['latitude'], OM4p25z_av['longitude'] = W25_av['latitude'],W25_av['longitude']\n",
    "\n",
    "OM4p5_av = OM4p5_av.rename({'yh':'latitude','xh':'longitude'})\n",
    "OM4p5_av['latitude'], OM4p5_av['longitude'] = W5_av['latitude'], W5_av['longitude']\n",
    "\n",
    "# OM4p5mle_av = OM4p5mle_av.rename({'yh':'latitude','xh':'longitude'})\n",
    "# OM4p5mle_av['latitude'], OM4p5mle_av['longitude'] = W5_av['latitude'],W5_av['longitude']"
   ]
  },
  {
   "cell_type": "code",
   "execution_count": null,
   "metadata": {},
   "outputs": [],
   "source": []
  },
  {
   "cell_type": "code",
   "execution_count": null,
   "metadata": {},
   "outputs": [],
   "source": [
    "%%time\n",
    "xq25 = G25 ['x'][:][::2,::2]\n",
    "yq25 = G25 ['y'][:][::2,::2]\n",
    "a25 = G25 ['area'][:]; a25 = a25[::2,::2]+a25[1::2,1::2]+a25[1::2,::2]+a25[1::2,::2]\n",
    "m25 = M25 ['mask'][:]; a25 = a25*m25\n",
    "xq5 = G5 ['x'][:][::2,::2]\n",
    "yq5 = G5 ['y'][:][::2,::2]\n",
    "a5 = G5 ['area'][:]; a5 = a5[::2,::2]+a5[1::2,1::2]+a5[1::2,::2]+a5[1::2,::2]\n",
    "m5 = M5 ['mask'][:]; a5 = a5*m5"
   ]
  },
  {
   "cell_type": "code",
   "execution_count": null,
   "metadata": {},
   "outputs": [],
   "source": [
    "%%time\n",
    "def stats(ax, area, anomaly, label):\n",
    "    area = area.rename({'nx':'longitude','ny':'latitude'})\n",
    "    \n",
    "    mn = (anomaly*area).sum()/area.sum(); mn = mn.values\n",
    "    sd = numpy.sqrt( ((anomaly-mn)**2*area).sum()/area.sum() ); sd = sd.values\n",
    "    rms = numpy.sqrt( (anomaly**2*area).sum()/area.sum() ); rms = rms.values\n",
    "    qmn, qmx = anomaly.min(), anomaly.max(); qmn, qmx = qmn.values, qmx.values\n",
    "    print(label, 'mean =', mn, 'sd =', sd, 'rms =', rms, 'min =', qmn, 'max =', qmx )\n",
    "    bb = ax.get_position()\n",
    "    plt.gcf().text(bb.x0,bb.y1+.01,'mean=%.3f'%mn, horizontalalignment='left')\n",
    "    plt.gcf().text(bb.x1,bb.y1+.01,'rms=%.3f'%rms, horizontalalignment='right')\n",
    "#     plt.gcf().text(bb.x0,bb.y1+.01,'mean=%.3f$^\\circ$C'%mn, horizontalalignment='left')\n",
    "#     plt.gcf().text(bb.x1,bb.y1+.01,'rms=%.3f$^\\circ$C'%rms, horizontalalignment='right')\n",
    "\n"
   ]
  },
  {
   "cell_type": "code",
   "execution_count": null,
   "metadata": {},
   "outputs": [],
   "source": [
    "%%time\n",
    "fig = plt.figure(figsize=(12, 8))\n",
    "vmin,vmax,ci,cmap = -2.25,2.25,.5,plt.cm.RdYlBu_r\n",
    "axes = []\n",
    "cilev = numpy.arange(vmin-ci,vmax+ci*2,ci)\n",
    "norm = matplotlib.colors.BoundaryNorm(boundaries=cilev, ncolors=cmap.N)\n",
    "\n",
    "q = OM4p25_av - W25_av\n",
    "ax = fig.add_subplot(2,2,1,projection=cartopy.crs.Robinson(central_longitude=-155))\n",
    "im = ax.pcolormesh(xq25, yq25, q,\n",
    "              transform=cartopy.crs.PlateCarree(), cmap=cmap, norm=norm, vmin=vmin, vmax=vmax)\n",
    "stats(ax, a25, q, 'OMp25'); \n",
    "ax.coastlines()\n",
    "axes.append(ax)\n",
    "plt.title('a) OM4p25')\n",
    "\n",
    "# q = OM4p5nep_av - W5_av\n",
    "# ax = fig.add_subplot(2,2,2,projection=cartopy.crs.Robinson(central_longitude=-155))\n",
    "# im = ax.pcolormesh(xq5, yq5, q,\n",
    "#               transform=cartopy.crs.PlateCarree(), cmap=cmap, norm=norm)\n",
    "# stats(ax, a5, q, 'OMp5nep')\n",
    "# ax.coastlines()\n",
    "# axes.append(ax)\n",
    "# plt.title('b) OM4p5n')\n",
    "\n",
    "# q = OM4p25z_av - W25_av\n",
    "# ax = fig.add_subplot(2,2,3,projection=cartopy.crs.Robinson(central_longitude=-155))\n",
    "# im = ax.pcolormesh(xq25, yq25, q,\n",
    "#               transform=cartopy.crs.PlateCarree(), cmap=cmap, norm=norm)\n",
    "# stats(ax, a25, q, 'OMp25z')\n",
    "# ax.coastlines()\n",
    "# axes.append(ax)\n",
    "# plt.title('c) OM4p25z')\n",
    "\n",
    "# q = OM4p5mle_av - W5_av\n",
    "# ax = fig.add_subplot(2,2,3,projection=cartopy.crs.Robinson(central_longitude=-155))\n",
    "# im = ax.pcolormesh(xq5, yq5, q,\n",
    "#               transform=cartopy.crs.PlateCarree(), cmap=cmap, norm=norm)\n",
    "# stats(ax, a5, q, 'OM4p5mle')\n",
    "# ax.coastlines()\n",
    "# axes.append(ax)\n",
    "# plt.title('c) OM4p25e')\n",
    "\n",
    "q = OM4p5_av - W5_av\n",
    "ax = fig.add_subplot(2,2,2,projection=cartopy.crs.Robinson(central_longitude=-155))\n",
    "im = ax.pcolormesh(xq5, yq5, q,\n",
    "              transform=cartopy.crs.PlateCarree(), cmap=cmap, norm=norm, vmin=vmin, vmax=vmax)\n",
    "stats(ax, a5, q, 'OMp5')\n",
    "ax.coastlines()\n",
    "axes.append(ax)\n",
    "plt.title('d) OM4p5')\n",
    "\n",
    "ax = plt.gcf().add_axes((.25,.5,.5,.03))\n",
    "cb = matplotlib.colorbar.ColorbarBase(ax=ax, cmap=cmap, norm=norm, boundaries=cilev,\n",
    "                                      orientation='horizontal', extend='both')\n",
    "cb.ax.set_title('SST bias ($^\\circ$C)')\n",
    "\n",
    "plt.savefig('sst-bias.png')"
   ]
  }
 ],
 "metadata": {
  "kernelspec": {
   "display_name": "Python 3",
   "language": "python",
   "name": "python3"
  },
  "language_info": {
   "codemirror_mode": {
    "name": "ipython",
    "version": 3
   },
   "file_extension": ".py",
   "mimetype": "text/x-python",
   "name": "python",
   "nbconvert_exporter": "python",
   "pygments_lexer": "ipython3",
   "version": "3.7.3"
  }
 },
 "nbformat": 4,
 "nbformat_minor": 4
}
