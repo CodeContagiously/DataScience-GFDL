{
 "cells": [
  {
   "cell_type": "markdown",
   "metadata": {},
   "source": [
    "### SST OM4p25"
   ]
  },
  {
   "cell_type": "code",
   "execution_count": 1,
   "metadata": {},
   "outputs": [],
   "source": [
    "import cartopy\n",
    "import cmocean\n",
    "import matplotlib.pyplot as plt\n",
    "import matplotlib.colors\n",
    "import matplotlib.colorbar\n",
    "import netCDF4\n",
    "import numpy"
   ]
  },
  {
   "cell_type": "code",
   "execution_count": 2,
   "metadata": {},
   "outputs": [
    {
     "name": "stdout",
     "output_type": "stream",
     "text": [
      "CPU times: user 19.1 s, sys: 29.8 s, total: 48.9 s\n",
      "Wall time: 48.9 s\n"
     ]
    }
   ],
   "source": [
    "%%time\n",
    "## net series files 300yr OM4p25\n",
    "OM4p25 = netCDF4.MFDataset('/work/Nkeh.Boh/SST/OM4p25-100yr/Netfile/*.nc') #100 yr\n",
    "\n",
    "W25 = netCDF4.Dataset('/work/Nkeh.Boh/SST/NetOMfiles/W25/WOA05_ptemp_salt_monthly.v20141007.nc')\n",
    "\n",
    "W25_av  = numpy.mean(W25['ptemp'][:],axis=(0,1))\n",
    "OM4p25_av = numpy.mean(OM4p25['tos'][:],axis=(0,1))\n",
    "\n",
    "#anomaly = OM4p25_av - W25_av\n"
   ]
  },
  {
   "cell_type": "markdown",
   "metadata": {},
   "source": [
    "# Plots"
   ]
  },
  {
   "cell_type": "markdown",
   "metadata": {},
   "source": [
    "#### Doing typical time averaging + plotting"
   ]
  },
  {
   "cell_type": "code",
   "execution_count": null,
   "metadata": {},
   "outputs": [],
   "source": [
    "%%time\n",
    "G25 = netCDF4.Dataset('/archive/gold/datasets/OM4_025/mosaic.v20170622.unpacked/ocean_hgrid.nc')\n",
    "G5 = netCDF4.Dataset('/archive/gold/datasets/OM4_05/mosaic_ocean.v20180227.unpacked/ocean_hgrid.nc')\n",
    "M25 = netCDF4.Dataset('/archive/gold/datasets/OM4_025/mosaic.v20170622.unpacked/ocean_mask.nc')\n",
    "M5 = netCDF4.Dataset('/archive/gold/datasets/OM4_05/mosaic_ocean.v20180227.unpacked/ocean_mask.nc')\n",
    "\n",
    "xq25 = G25.variables['x'][:][::2,::2]\n",
    "yq25 = G25.variables['y'][:][::2,::2]\n",
    "a25 = G25.variables['area'][:]; a25 = a25[::2,::2]+a25[1::2,1::2]+a25[1::2,::2]+a25[1::2,::2]\n",
    "m25 = M25.variables['mask'][:]; a25 = a25*m25\n",
    "\n",
    "\n",
    "def stats(ax, area, anomaly, label):\n",
    "    mn = (anomaly*area).sum()/area.sum()\n",
    "    sd = numpy.sqrt( ((anomaly-mn)**2*area).sum()/area.sum() )\n",
    "    rms = numpy.sqrt( (anomaly**2*area).sum()/area.sum() )\n",
    "    qmn, qmx = anomaly.min(), anomaly.max()\n",
    "    print(label, 'mean =', mn, 'sd =', sd, 'rms =', rms, 'min =', qmn, 'max =', qmx )\n",
    "    bb = ax.get_position()\n",
    "    plt.gcf().text(bb.x0,bb.y1+.01,'mean=%.3f$^\\circ$C'%mn, horizontalalignment='left')\n",
    "    plt.gcf().text(bb.x1,bb.y1+.01,'rms=%.3f$^\\circ$C'%rms, horizontalalignment='right')\n",
    "\n",
    "\n",
    "fig = plt.figure(figsize=(10,7))\n",
    "vmin,vmax,ci,cmap = -2.25,2.25,.5,plt.cm.RdYlBu_r\n",
    "# axes = []\n",
    "cilev = numpy.arange(vmin-ci,vmax+ci*2,ci)\n",
    "norm = matplotlib.colors.BoundaryNorm(boundaries=cilev, ncolors=cmap.N)\n",
    "\n",
    "# anomaly = OM4p25_av - W25_av\n",
    "\n",
    "ax = plt.axes(projection=cartopy.crs.Robinson(central_longitude=-155))\n",
    "\n",
    "im = ax.pcolormesh(xq25, yq25, anomaly, transform=cartopy.crs.PlateCarree(), cmap=cmap, norm=norm, vmin=vmin, vmax=vmax)\n",
    "stats(ax, a25, anomaly, 'OMp25')\n",
    "ax.coastlines()\n",
    "# axes.append(ax)\n",
    "plt.title('a) OM4p25')\n",
    "\n",
    "ax = plt.gcf().add_axes((.25,.5,.5,.03))\n",
    "cb = matplotlib.colorbar.ColorbarBase(ax=ax, cmap=cmap, norm=norm, boundaries=cilev,\n",
    "                                      orientation='horizontal', extend='both')\n",
    "cb.ax.set_title('SST bias ($^\\circ$C)')"
   ]
  },
  {
   "cell_type": "code",
   "execution_count": null,
   "metadata": {},
   "outputs": [],
   "source": []
  }
 ],
 "metadata": {
  "kernelspec": {
   "display_name": "Python 3",
   "language": "python",
   "name": "python3"
  },
  "language_info": {
   "codemirror_mode": {
    "name": "ipython",
    "version": 3
   },
   "file_extension": ".py",
   "mimetype": "text/x-python",
   "name": "python",
   "nbconvert_exporter": "python",
   "pygments_lexer": "ipython3",
   "version": "3.7.3"
  }
 },
 "nbformat": 4,
 "nbformat_minor": 2
}
