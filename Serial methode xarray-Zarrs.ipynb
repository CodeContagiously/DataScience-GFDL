{
 "cells": [
  {
   "cell_type": "markdown",
   "metadata": {},
   "source": [
    "Dask"
   ]
  },
  {
   "cell_type": "code",
   "execution_count": null,
   "metadata": {},
   "outputs": [],
   "source": [
    "#from dask_jobqueue import SLURMCluster\n",
    "#cluster = SLURMCluster(queue='analysis',walltime='00:20:00',memory='96GB',cores=8,project='gfdl_f')"
   ]
  },
  {
   "cell_type": "code",
   "execution_count": null,
   "metadata": {},
   "outputs": [],
   "source": [
    "from dask.distributed import Client\n",
    "client = Client('140.208.147.176:45978')"
   ]
  },
  {
   "cell_type": "code",
   "execution_count": null,
   "metadata": {
    "scrolled": true
   },
   "outputs": [],
   "source": [
    "client"
   ]
  },
  {
   "cell_type": "markdown",
   "metadata": {},
   "source": [
    "### SST OM4p25"
   ]
  },
  {
   "cell_type": "code",
   "execution_count": null,
   "metadata": {},
   "outputs": [],
   "source": [
    "import cartopy\n",
    "import cmocean\n",
    "import matplotlib.pyplot as plt\n",
    "import matplotlib.colors\n",
    "import matplotlib.colorbar\n",
    "import xarray as xr\n",
    "import numpy"
   ]
  },
  {
   "cell_type": "code",
   "execution_count": null,
   "metadata": {},
   "outputs": [],
   "source": []
  },
  {
   "cell_type": "markdown",
   "metadata": {},
   "source": [
    "#### xarray doesn't load data from disk except when needed, just deals with the metadata. objects refer to actual values"
   ]
  },
  {
   "cell_type": "code",
   "execution_count": null,
   "metadata": {},
   "outputs": [],
   "source": [
    "OM4p25 = xr.open_zarr('/work/Nkeh.Boh/SST/OM4p25-100yr/Zarrfile/OM4p25.zarr') #zarr 100 series files"
   ]
  },
  {
   "cell_type": "code",
   "execution_count": null,
   "metadata": {},
   "outputs": [],
   "source": [
    "W25 = xr.open_zarr('/work/Nkeh.Boh/SST/ZarrDataset/WOA25.zarr')"
   ]
  },
  {
   "cell_type": "code",
   "execution_count": null,
   "metadata": {},
   "outputs": [],
   "source": [
    "wtemp_mean = W25['ptemp'].mean(axis=(0,1))"
   ]
  },
  {
   "cell_type": "code",
   "execution_count": null,
   "metadata": {},
   "outputs": [],
   "source": [
    "#OM4p25.chunk({'time':1200,'xh':1440,'yh':1080})"
   ]
  },
  {
   "cell_type": "code",
   "execution_count": null,
   "metadata": {},
   "outputs": [],
   "source": [
    "%%time\n",
    "temp_mean = OM4p25['tos'].mean(dim=['time'] ).load() #."
   ]
  },
  {
   "cell_type": "code",
   "execution_count": null,
   "metadata": {},
   "outputs": [],
   "source": [
    "temp_mean.shape"
   ]
  },
  {
   "cell_type": "markdown",
   "metadata": {},
   "source": [
    "## Plots"
   ]
  },
  {
   "cell_type": "code",
   "execution_count": null,
   "metadata": {},
   "outputs": [],
   "source": [
    "fig = plt.figure(figsize=(8,5))\n",
    "vmin,vmax,ci,cmap = -2.25,2.25,.5,plt.cm.RdYlBu_r\n",
    "axes = []\n",
    "cilev = numpy.arange(vmin-ci,vmax+ci*2,ci)\n",
    "norm = matplotlib.colors.BoundaryNorm(boundaries=cilev, ncolors=cmap.N)\n",
    "\n",
    "q = temp_mean - wtemp_mean #\n",
    "\n",
    "ax = plt.axes(projection=cartopy.crs.Robinson(central_longitude=-155))\n",
    "\n",
    "im = ax.pcolormesh(q, vmin=vmin, vmax=vmax)\n",
    "#stats(ax, a25, q, 'OMp25')\n",
    "ax.coastlines()\n",
    "axes.append(ax)\n",
    "plt.title('a) OM4p25')"
   ]
  },
  {
   "cell_type": "code",
   "execution_count": null,
   "metadata": {},
   "outputs": [],
   "source": [
    "G25 = xr.open_zarr('/work/Nkeh.Boh/zarrfiles_old/G25')\n",
    "G5 = xr.open_zarr('/work/Nkeh.Boh/zarrfiles_old/G5')\n",
    "M25 = xr.open_zarr('/work/Nkeh.Boh/zarrfiles_old/M25')\n",
    "\n",
    "W25 = xr.open_zarr('/work/Nkeh.Boh/zarrfiles_old/W25') #Get zarr series file for this (W25)\n",
    "\n",
    "xq25 = G25.variables['x'][:][::2,::2]\n",
    "yq25 = G25.variables['y'][:][::2,::2]\n",
    "a25 = G25.variables['area'][:]; a25 = a25[::2,::2]+a25[1::2,1::2]+a25[1::2,::2]+a25[1::2,::2]\n",
    "m25 = M25.variables['mask'][:]; a25 = a25*m25\n",
    "\n",
    "\n",
    "def stats(ax, area, anomaly, label):\n",
    "    mn = (anomaly*area).sum()/area.sum()\n",
    "    sd = numpy.sqrt( ((anomaly-mn)**2*area).sum()/area.sum() )\n",
    "    rms = numpy.sqrt( (anomaly**2*area).sum()/area.sum() )\n",
    "    qmn, qmx = anomaly.min(), anomaly.max()\n",
    "    print(label, 'mean =', mn, 'sd =', sd, 'rms =', rms, 'min =', qmn, 'max =', qmx )\n",
    "    bb = ax.get_position()\n",
    "    plt.gcf().text(bb.x0,bb.y1+.01,'mean=%.3f$^\\circ$C'%mn, horizontalalignment='left')\n",
    "    plt.gcf().text(bb.x1,bb.y1+.01,'rms=%.3f$^\\circ$C'%rms, horizontalalignment='right')\n",
    "\n",
    "    \n",
    "OM4p25_av = OM4p25['tos'].mean(dim='time')\n",
    "\n",
    "W25_av = W25['ptemp'][0].mean(axis=0)\n",
    "\n",
    "fig = plt.figure(figsize=(8,5))\n",
    "vmin,vmax,ci,cmap = -2.25,2.25,.5,plt.cm.RdYlBu_r\n",
    "axes = []\n",
    "cilev = numpy.arange(vmin-ci,vmax+ci*2,ci)\n",
    "norm = matplotlib.colors.BoundaryNorm(boundaries=cilev, ncolors=cmap.N)\n",
    "\n",
    "q = OM4p25_av - W25_av  #\n",
    "\n",
    "ax = plt.axes(projection=cartopy.crs.Robinson(central_longitude=-155))\n",
    "\n",
    "im = ax.pcolormesh(xq25, yq25, q, transform=cartopy.crs.PlateCarree(), cmap=cmap, norm=norm, vmin=vmin, vmax=vmax)\n",
    "stats(ax, a25, q, 'OMp25')\n",
    "ax.coastlines()\n",
    "axes.append(ax)\n",
    "plt.title('a) OM4p25')\n",
    "\n"
   ]
  }
 ],
 "metadata": {
  "kernelspec": {
   "display_name": "Python 3",
   "language": "python",
   "name": "python3"
  },
  "language_info": {
   "codemirror_mode": {
    "name": "ipython",
    "version": 3
   },
   "file_extension": ".py",
   "mimetype": "text/x-python",
   "name": "python",
   "nbconvert_exporter": "python",
   "pygments_lexer": "ipython3",
   "version": "3.7.3"
  }
 },
 "nbformat": 4,
 "nbformat_minor": 2
}
