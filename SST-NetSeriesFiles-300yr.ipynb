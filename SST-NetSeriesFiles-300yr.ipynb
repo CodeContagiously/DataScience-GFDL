{
 "cells": [
  {
   "cell_type": "markdown",
   "metadata": {},
   "source": [
    "### This Notebook is Good"
   ]
  },
  {
   "cell_type": "markdown",
   "metadata": {},
   "source": [
    "## Creating a Local Cluster on workstation/Analysis node"
   ]
  },
  {
   "cell_type": "code",
   "execution_count": 1,
   "metadata": {},
   "outputs": [],
   "source": [
    "# from dask.distributed import Client, LocalCluster\n",
    "\n",
    "# cluster1 = LocalCluster()\n",
    "# client1 = Client(cluster1)"
   ]
  },
  {
   "cell_type": "code",
   "execution_count": 2,
   "metadata": {},
   "outputs": [],
   "source": [
    "# client1"
   ]
  },
  {
   "cell_type": "markdown",
   "metadata": {},
   "source": [
    "## Creating Cluster on workstation/Analysis node"
   ]
  },
  {
   "cell_type": "code",
   "execution_count": null,
   "metadata": {},
   "outputs": [],
   "source": [
    "# from dask_jobqueue import SLURMCluster\n",
    "# from dask.distributed import Client\n",
    "\n",
    "# cluster2 = SLURMCluster(queue='analysis', cores=8, project='gfdl_f', memory='20GB', walltime='00:10:00', dashboard_address=9898 )\n",
    "# client2 = Client(cluster)"
   ]
  },
  {
   "cell_type": "code",
   "execution_count": null,
   "metadata": {},
   "outputs": [],
   "source": [
    "# cluster2.scale(2)"
   ]
  },
  {
   "cell_type": "code",
   "execution_count": null,
   "metadata": {},
   "outputs": [],
   "source": []
  },
  {
   "cell_type": "code",
   "execution_count": null,
   "metadata": {},
   "outputs": [],
   "source": [
    "import cartopy\n",
    "import cmocean\n",
    "import matplotlib.pyplot as plt\n",
    "import matplotlib.colors\n",
    "import matplotlib.colorbar\n",
    "import netCDF4\n",
    "import numpy"
   ]
  },
  {
   "cell_type": "markdown",
   "metadata": {},
   "source": [
    "## net series files"
   ]
  },
  {
   "cell_type": "code",
   "execution_count": null,
   "metadata": {},
   "outputs": [],
   "source": [
    "## Averaging\n",
    "OM4p25_av = numpy.mean(OM4p25.variables['tos'][:],axis=0)\n",
    "OM4p5nep_av = numpy.mean(OM4p5nep.variables['tos'][:], axis=0)\n",
    "OM4p25z_av = numpy.mean(OM4p25z.variables['tos'][:], axis=0)\n",
    "OM4p5_av = numpy.mean(OM4p5.variables['tos'][:], axis=0)\n",
    "OM4p5mle_av = numpy.mean(OM4p5mle.variables['tos'][:], axis=0)\n",
    "\n",
    "W25_av = numpy.mean(W25.variables['ptemp'][:,0], axis=0)\n",
    "W5_av = numpy.mean(W5.variables['ptemp'][:,0], axis=0)"
   ]
  },
  {
   "cell_type": "code",
   "execution_count": null,
   "metadata": {},
   "outputs": [],
   "source": []
  },
  {
   "cell_type": "code",
   "execution_count": null,
   "metadata": {},
   "outputs": [],
   "source": [
    "%%time\n",
    "#300yr OM4files, date 198801 - 200712\n",
    "\n",
    "#chunk along dim = 'time'\n",
    "OM4p25 = netCDF4.MFDataset('/work/Nkeh.Boh/SST/NetOMfiles/OM4p25/*.nc')\n",
    "OM4p25z = netCDF4.MFDataset('/work/Nkeh.Boh/SST/NetOMfiles/OM4p25z/*.nc')\n",
    "OM4p5nep = netCDF4.MFDataset('/work/Nkeh.Boh/SST/NetOMfiles/OM4p5nep/*.nc')\n",
    "OM4p5mle =netCDF4.MFDataset('/work/Nkeh.Boh/SST/NetOMfiles/OM4p5mle/*.nc')\n",
    "OM4p5 = netCDF4.MFDataset('/work/Nkeh.Boh/SST/NetOMfiles/OM4p5/*.nc')\n",
    "\n",
    "\n",
    "#WOA files\n",
    "W25 = netCDF4.Dataset('/work/Nkeh.Boh/SST/NetOMfiles/W25/WOA05_ptemp_salt_monthly.v20141007.nc')\n",
    "W5 = netCDF4.Dataset('/work/Nkeh.Boh/SST/NetOMfiles/W05/WOA05_ptemp_salt_monthly.v2015.12.03.nc')\n",
    "# 105GB < T_fileSize <110GB\n",
    "\n",
    "#Grid files\n",
    "G25 = netCDF4.Dataset('/work/Nkeh.Boh/SST/NetOMfiles/G25/ocean_hgrid.nc')\n",
    "G5 = netCDF4.Dataset('/work/Nkeh.Boh/SST/NetOMfiles/G5/ocean_hgrid.nc')\n",
    "M25 = netCDF4.Dataset('/work/Nkeh.Boh/SST/NetOMfiles/M25/ocean_mask.nc')\n",
    "M5 = netCDF4.Dataset('/work/Nkeh.Boh/SST/NetOMfiles/M5/ocean_mask.nc')\n",
    "\n",
    "\n",
    "## Averaging\n",
    "OM4p25_av = numpy.mean(OM4p25.variables['tos'][:],axis=0)\n",
    "OM4p5nep_av = numpy.mean(OM4p5nep.variables['tos'][:], axis=0)\n",
    "OM4p25z_av = numpy.mean(OM4p25z.variables['tos'][:], axis=0)\n",
    "OM4p5_av = numpy.mean(OM4p5.variables['tos'][:], axis=0)\n",
    "OM4p5mle_av = numpy.mean(OM4p5mle.variables['tos'][:], axis=0)\n",
    "\n",
    "W25_av = numpy.mean(W25.variables['ptemp'][:,0], axis=0)\n",
    "W5_av = numpy.mean(W5.variables['ptemp'][:,0], axis=0)"
   ]
  },
  {
   "cell_type": "code",
   "execution_count": null,
   "metadata": {},
   "outputs": [],
   "source": [
    "%%time\n",
    "xq25 = G25.variables['x'][:][::2,::2]\n",
    "yq25 = G25.variables['y'][:][::2,::2]\n",
    "a25 = G25.variables['area'][:]; a25 = a25[::2,::2]+a25[1::2,1::2]+a25[1::2,::2]+a25[1::2,::2]\n",
    "m25 = M25.variables['mask'][:]; a25 = a25*m25\n",
    "xq5 = G5.variables['x'][:][::2,::2]\n",
    "yq5 = G5.variables['y'][:][::2,::2]\n",
    "a5 = G5.variables['area'][:]; a5 = a5[::2,::2]+a5[1::2,1::2]+a5[1::2,::2]+a5[1::2,::2]\n",
    "m5 = M5.variables['mask'][:]; a5 = a5*m5"
   ]
  },
  {
   "cell_type": "code",
   "execution_count": null,
   "metadata": {},
   "outputs": [],
   "source": [
    "%%time\n",
    "def stats(ax, area, anomaly, label):\n",
    "    mn = (anomaly*area).sum()/area.sum()\n",
    "    sd = numpy.sqrt( ((anomaly-mn)**2*area).sum()/area.sum() )\n",
    "    rms = numpy.sqrt( (anomaly**2*area).sum()/area.sum() )\n",
    "    qmn, qmx = anomaly.min(), anomaly.max()\n",
    "    print(label, 'mean =', mn, 'sd =', sd, 'rms =', rms, 'min =', qmn, 'max =', qmx )\n",
    "    bb = ax.get_position()\n",
    "    plt.gcf().text(bb.x0,bb.y1+.01,'mean=%.3f$^\\circ$C'%mn, horizontalalignment='left')\n",
    "    plt.gcf().text(bb.x1,bb.y1+.01,'rms=%.3f$^\\circ$C'%rms, horizontalalignment='right')\n"
   ]
  },
  {
   "cell_type": "markdown",
   "metadata": {},
   "source": [
    "\n",
    "## Plots"
   ]
  },
  {
   "cell_type": "code",
   "execution_count": null,
   "metadata": {},
   "outputs": [],
   "source": []
  },
  {
   "cell_type": "code",
   "execution_count": null,
   "metadata": {},
   "outputs": [],
   "source": [
    "%%time\n",
    "fig = plt.figure(figsize=(12, 8))\n",
    "vmin,vmax,ci,cmap = -2.25,2.25,.5,plt.cm.RdYlBu_r\n",
    "axes = []\n",
    "cilev = numpy.arange(vmin-ci,vmax+ci*2,ci)\n",
    "norm = matplotlib.colors.BoundaryNorm(boundaries=cilev, ncolors=cmap.N)\n",
    "\n",
    "q = OM4p25_av - W25_av\n",
    "ax = fig.add_subplot(2,2,1,projection=cartopy.crs.Robinson(central_longitude=-155))\n",
    "im = ax.pcolormesh(xq25, yq25, q,\n",
    "              transform=cartopy.crs.PlateCarree(), cmap=cmap, norm=norm, vmin=vmin, vmax=vmax)\n",
    "stats(ax, a25, q, 'OMp25')\n",
    "ax.coastlines()\n",
    "axes.append(ax)\n",
    "plt.title('a) OM4p25')\n",
    "\n",
    "q = OM4p5nep_av - W5_av\n",
    "ax = fig.add_subplot(2,2,2,projection=cartopy.crs.Robinson(central_longitude=-155))\n",
    "im = ax.pcolormesh(xq5, yq5, q,\n",
    "              transform=cartopy.crs.PlateCarree(), cmap=cmap, norm=norm)\n",
    "stats(ax, a5, q, 'OMp5nep')\n",
    "ax.coastlines()\n",
    "axes.append(ax)\n",
    "plt.title('b) OM4p5n')\n",
    "\n",
    "q = OM4p25z_av - W25_av\n",
    "ax = fig.add_subplot(2,2,3,projection=cartopy.crs.Robinson(central_longitude=-155))\n",
    "im = ax.pcolormesh(xq25, yq25, q,\n",
    "              transform=cartopy.crs.PlateCarree(), cmap=cmap, norm=norm)\n",
    "stats(ax, a25, q, 'OMp25z')\n",
    "ax.coastlines()\n",
    "axes.append(ax)\n",
    "plt.title('c) OM4p25z')\n",
    "\n",
    "# q = OM4p5mle_av - W5_av\n",
    "# ax = fig.add_subplot(2,2,3,projection=cartopy.crs.Robinson(central_longitude=-155))\n",
    "# im = ax.pcolormesh(xq5, yq5, q,\n",
    "#               transform=cartopy.crs.PlateCarree(), cmap=cmap, norm=norm)\n",
    "# stats(ax, a5, q, 'OM4p5mle')\n",
    "# ax.coastlines()\n",
    "# axes.append(ax)\n",
    "# plt.title('c) OM4p25e')\n",
    "\n",
    "q = OM4p5_av - W5_av\n",
    "ax = fig.add_subplot(2,2,4,projection=cartopy.crs.Robinson(central_longitude=-155))\n",
    "im = ax.pcolormesh(xq5, yq5, q,\n",
    "              transform=cartopy.crs.PlateCarree(), cmap=cmap, norm=norm, vmin=vmin, vmax=vmax)\n",
    "stats(ax, a5, q, 'OMp5')\n",
    "ax.coastlines()\n",
    "axes.append(ax)\n",
    "plt.title('d) OM4p5')\n",
    "\n",
    "ax = plt.gcf().add_axes((.25,.5,.5,.03))\n",
    "cb = matplotlib.colorbar.ColorbarBase(ax=ax, cmap=cmap, norm=norm, boundaries=cilev,\n",
    "                                      orientation='horizontal', extend='both')\n",
    "cb.ax.set_title('SST bias ($^\\circ$C)')\n",
    "\n",
    "plt.savefig('sst-bias.png')"
   ]
  },
  {
   "cell_type": "code",
   "execution_count": null,
   "metadata": {},
   "outputs": [],
   "source": []
  }
 ],
 "metadata": {
  "kernelspec": {
   "display_name": "Python 3",
   "language": "python",
   "name": "python3"
  },
  "language_info": {
   "codemirror_mode": {
    "name": "ipython",
    "version": 3
   },
   "file_extension": ".py",
   "mimetype": "text/x-python",
   "name": "python",
   "nbconvert_exporter": "python",
   "pygments_lexer": "ipython3",
   "version": "3.7.3"
  }
 },
 "nbformat": 4,
 "nbformat_minor": 4
}
